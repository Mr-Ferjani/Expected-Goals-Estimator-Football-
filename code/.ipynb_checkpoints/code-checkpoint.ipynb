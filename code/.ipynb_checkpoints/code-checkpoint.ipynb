{
 "cells": [
  {
   "cell_type": "markdown",
   "metadata": {
    "id": "rPnitSCKjH8F"
   },
   "source": [
    "# Web Scrapping and Data Cleaning"
   ]
  },
  {
   "cell_type": "code",
   "execution_count": 79,
   "metadata": {
    "colab": {
     "base_uri": "https://localhost:8080/"
    },
    "executionInfo": {
     "elapsed": 3470,
     "status": "ok",
     "timestamp": 1675188821654,
     "user": {
      "displayName": "Taker 9",
      "userId": "13385761573232714992"
     },
     "user_tz": -60
    },
    "id": "EM5qnYUswVqb",
    "outputId": "ee3a184d-1997-41d9-ab36-9592db9e138e"
   },
   "outputs": [
    {
     "name": "stdout",
     "output_type": "stream",
     "text": [
      "Drive already mounted at /content/drive; to attempt to forcibly remount, call drive.mount(\"/content/drive\", force_remount=True).\n",
      "'1 - Project Planning:.gdoc'   code.ipynb   dataset.csv   FlaskAPI\n"
     ]
    }
   ],
   "source": [
    "from google.colab import drive\n",
    "drive.mount('/content/drive')\n",
    "import os\n",
    "path = '/content/drive/My Drive/End-to-End Data Science'\n",
    "os.chdir('/content/drive/My Drive/End-to-End Data Science')\n",
    "folder = os.path.join('/content/drive/My Drive/End-to-End Data Science')\n",
    "!ls"
   ]
  },
  {
   "cell_type": "code",
   "execution_count": 2,
   "metadata": {
    "executionInfo": {
     "elapsed": 1278,
     "status": "ok",
     "timestamp": 1675176853937,
     "user": {
      "displayName": "Taker 9",
      "userId": "13385761573232714992"
     },
     "user_tz": -60
    },
    "id": "yc6Fvzd8aFIP"
   },
   "outputs": [],
   "source": [
    "import pandas as pd\n",
    "from bs4 import BeautifulSoup\n",
    "import requests"
   ]
  },
  {
   "cell_type": "markdown",
   "metadata": {
    "id": "eGdmxafeKuSr"
   },
   "source": [
    "Standard stats for players in the Top 5 Leagues in Europe"
   ]
  },
  {
   "cell_type": "code",
   "execution_count": 3,
   "metadata": {
    "executionInfo": {
     "elapsed": 17,
     "status": "ok",
     "timestamp": 1675176853938,
     "user": {
      "displayName": "Taker 9",
      "userId": "13385761573232714992"
     },
     "user_tz": -60
    },
    "id": "uKqvvHKSjm4b"
   },
   "outputs": [],
   "source": [
    "url = 'https://fbref.com/en/comps/Big5/2021-2022/stats/players/2021-2022-Big-5-European-Leagues-Stats'\n",
    "r = requests.get(url) #The get() method sends a GET request to the specified url."
   ]
  },
  {
   "cell_type": "code",
   "execution_count": 4,
   "metadata": {
    "executionInfo": {
     "elapsed": 2296,
     "status": "ok",
     "timestamp": 1675176856218,
     "user": {
      "displayName": "Taker 9",
      "userId": "13385761573232714992"
     },
     "user_tz": -60
    },
    "id": "xIPh0h_zniGv"
   },
   "outputs": [],
   "source": [
    "df = pd.read_html(r.text, header = None)\n",
    "df_goal_shot = df[0]"
   ]
  },
  {
   "cell_type": "markdown",
   "metadata": {
    "id": "2SNYyeWNvqwY"
   },
   "source": [
    "Renaming column for a more concise presentation"
   ]
  },
  {
   "cell_type": "code",
   "execution_count": 5,
   "metadata": {
    "executionInfo": {
     "elapsed": 11,
     "status": "ok",
     "timestamp": 1675176856219,
     "user": {
      "displayName": "Taker 9",
      "userId": "13385761573232714992"
     },
     "user_tz": -60
    },
    "id": "-XyahB6-IX6i"
   },
   "outputs": [],
   "source": [
    "new_col = []\n",
    "for i in range(df_goal_shot.shape[1]):\n",
    "  #print(df_goal_shot.columns[i][1])\n",
    "  new_col.append(df_goal_shot.columns[i][1])\n",
    "\n",
    "df_goal_shot.columns = new_col\n",
    "columns_shot = df_goal_shot.columns"
   ]
  },
  {
   "cell_type": "markdown",
   "metadata": {
    "id": "IJVzJAlCMHZU"
   },
   "source": [
    "Removing Duplicates"
   ]
  },
  {
   "cell_type": "code",
   "execution_count": 6,
   "metadata": {
    "executionInfo": {
     "elapsed": 10,
     "status": "ok",
     "timestamp": 1675176856219,
     "user": {
      "displayName": "Taker 9",
      "userId": "13385761573232714992"
     },
     "user_tz": -60
    },
    "id": "cF14k8FN_cWW"
   },
   "outputs": [],
   "source": [
    "df1 = df_goal_shot.loc[:,~df_goal_shot.columns.duplicated()].copy()"
   ]
  },
  {
   "cell_type": "code",
   "execution_count": 7,
   "metadata": {
    "colab": {
     "base_uri": "https://localhost:8080/",
     "height": 332
    },
    "executionInfo": {
     "elapsed": 10,
     "status": "ok",
     "timestamp": 1675176856220,
     "user": {
      "displayName": "Taker 9",
      "userId": "13385761573232714992"
     },
     "user_tz": -60
    },
    "id": "dpT12Wph74UL",
    "outputId": "9131489f-758c-4d76-8f7e-f23586071dc9"
   },
   "outputs": [
    {
     "data": {
      "text/html": [
       "\n",
       "  <div id=\"df-7c980cbf-08ff-4d5c-8723-96f755e2fac0\">\n",
       "    <div class=\"colab-df-container\">\n",
       "      <div>\n",
       "<style scoped>\n",
       "    .dataframe tbody tr th:only-of-type {\n",
       "        vertical-align: middle;\n",
       "    }\n",
       "\n",
       "    .dataframe tbody tr th {\n",
       "        vertical-align: top;\n",
       "    }\n",
       "\n",
       "    .dataframe thead th {\n",
       "        text-align: right;\n",
       "    }\n",
       "</style>\n",
       "<table border=\"1\" class=\"dataframe\">\n",
       "  <thead>\n",
       "    <tr style=\"text-align: right;\">\n",
       "      <th></th>\n",
       "      <th>Rk</th>\n",
       "      <th>Player</th>\n",
       "      <th>Nation</th>\n",
       "      <th>Pos</th>\n",
       "      <th>Squad</th>\n",
       "      <th>Comp</th>\n",
       "      <th>Age</th>\n",
       "      <th>Born</th>\n",
       "      <th>MP</th>\n",
       "      <th>Starts</th>\n",
       "      <th>...</th>\n",
       "      <th>CrdY</th>\n",
       "      <th>CrdR</th>\n",
       "      <th>G+A</th>\n",
       "      <th>G+A-PK</th>\n",
       "      <th>xG</th>\n",
       "      <th>npxG</th>\n",
       "      <th>xAG</th>\n",
       "      <th>npxG+xAG</th>\n",
       "      <th>xG+xAG</th>\n",
       "      <th>Matches</th>\n",
       "    </tr>\n",
       "  </thead>\n",
       "  <tbody>\n",
       "    <tr>\n",
       "      <th>0</th>\n",
       "      <td>1</td>\n",
       "      <td>Max Aarons</td>\n",
       "      <td>eng ENG</td>\n",
       "      <td>DF</td>\n",
       "      <td>Norwich City</td>\n",
       "      <td>eng Premier League</td>\n",
       "      <td>21</td>\n",
       "      <td>2000</td>\n",
       "      <td>34</td>\n",
       "      <td>32</td>\n",
       "      <td>...</td>\n",
       "      <td>8</td>\n",
       "      <td>0</td>\n",
       "      <td>0.06</td>\n",
       "      <td>0.06</td>\n",
       "      <td>0.9</td>\n",
       "      <td>0.9</td>\n",
       "      <td>1.6</td>\n",
       "      <td>2.5</td>\n",
       "      <td>0.08</td>\n",
       "      <td>Matches</td>\n",
       "    </tr>\n",
       "    <tr>\n",
       "      <th>1</th>\n",
       "      <td>2</td>\n",
       "      <td>Yunis Abdelhamid</td>\n",
       "      <td>ma MAR</td>\n",
       "      <td>DF</td>\n",
       "      <td>Reims</td>\n",
       "      <td>fr Ligue 1</td>\n",
       "      <td>33</td>\n",
       "      <td>1987</td>\n",
       "      <td>34</td>\n",
       "      <td>34</td>\n",
       "      <td>...</td>\n",
       "      <td>5</td>\n",
       "      <td>1</td>\n",
       "      <td>0.06</td>\n",
       "      <td>0.06</td>\n",
       "      <td>1.5</td>\n",
       "      <td>1.5</td>\n",
       "      <td>0.9</td>\n",
       "      <td>2.4</td>\n",
       "      <td>0.07</td>\n",
       "      <td>Matches</td>\n",
       "    </tr>\n",
       "    <tr>\n",
       "      <th>2</th>\n",
       "      <td>3</td>\n",
       "      <td>Salis Abdul Samed</td>\n",
       "      <td>gh GHA</td>\n",
       "      <td>MF</td>\n",
       "      <td>Clermont Foot</td>\n",
       "      <td>fr Ligue 1</td>\n",
       "      <td>21</td>\n",
       "      <td>2000</td>\n",
       "      <td>31</td>\n",
       "      <td>29</td>\n",
       "      <td>...</td>\n",
       "      <td>12</td>\n",
       "      <td>3</td>\n",
       "      <td>0.04</td>\n",
       "      <td>0.04</td>\n",
       "      <td>1.1</td>\n",
       "      <td>1.1</td>\n",
       "      <td>1.0</td>\n",
       "      <td>2.0</td>\n",
       "      <td>0.07</td>\n",
       "      <td>Matches</td>\n",
       "    </tr>\n",
       "    <tr>\n",
       "      <th>3</th>\n",
       "      <td>4</td>\n",
       "      <td>Laurent Abergel</td>\n",
       "      <td>fr FRA</td>\n",
       "      <td>MF</td>\n",
       "      <td>Lorient</td>\n",
       "      <td>fr Ligue 1</td>\n",
       "      <td>28</td>\n",
       "      <td>1993</td>\n",
       "      <td>34</td>\n",
       "      <td>34</td>\n",
       "      <td>...</td>\n",
       "      <td>9</td>\n",
       "      <td>0</td>\n",
       "      <td>0.06</td>\n",
       "      <td>0.06</td>\n",
       "      <td>2.1</td>\n",
       "      <td>2.1</td>\n",
       "      <td>4.4</td>\n",
       "      <td>6.4</td>\n",
       "      <td>0.20</td>\n",
       "      <td>Matches</td>\n",
       "    </tr>\n",
       "    <tr>\n",
       "      <th>4</th>\n",
       "      <td>5</td>\n",
       "      <td>Charles Abi</td>\n",
       "      <td>fr FRA</td>\n",
       "      <td>FW</td>\n",
       "      <td>Saint-Étienne</td>\n",
       "      <td>fr Ligue 1</td>\n",
       "      <td>21</td>\n",
       "      <td>2000</td>\n",
       "      <td>1</td>\n",
       "      <td>1</td>\n",
       "      <td>...</td>\n",
       "      <td>0</td>\n",
       "      <td>0</td>\n",
       "      <td>0.00</td>\n",
       "      <td>0.00</td>\n",
       "      <td>0.0</td>\n",
       "      <td>0.0</td>\n",
       "      <td>0.0</td>\n",
       "      <td>0.0</td>\n",
       "      <td>0.00</td>\n",
       "      <td>Matches</td>\n",
       "    </tr>\n",
       "  </tbody>\n",
       "</table>\n",
       "<p>5 rows × 27 columns</p>\n",
       "</div>\n",
       "      <button class=\"colab-df-convert\" onclick=\"convertToInteractive('df-7c980cbf-08ff-4d5c-8723-96f755e2fac0')\"\n",
       "              title=\"Convert this dataframe to an interactive table.\"\n",
       "              style=\"display:none;\">\n",
       "        \n",
       "  <svg xmlns=\"http://www.w3.org/2000/svg\" height=\"24px\"viewBox=\"0 0 24 24\"\n",
       "       width=\"24px\">\n",
       "    <path d=\"M0 0h24v24H0V0z\" fill=\"none\"/>\n",
       "    <path d=\"M18.56 5.44l.94 2.06.94-2.06 2.06-.94-2.06-.94-.94-2.06-.94 2.06-2.06.94zm-11 1L8.5 8.5l.94-2.06 2.06-.94-2.06-.94L8.5 2.5l-.94 2.06-2.06.94zm10 10l.94 2.06.94-2.06 2.06-.94-2.06-.94-.94-2.06-.94 2.06-2.06.94z\"/><path d=\"M17.41 7.96l-1.37-1.37c-.4-.4-.92-.59-1.43-.59-.52 0-1.04.2-1.43.59L10.3 9.45l-7.72 7.72c-.78.78-.78 2.05 0 2.83L4 21.41c.39.39.9.59 1.41.59.51 0 1.02-.2 1.41-.59l7.78-7.78 2.81-2.81c.8-.78.8-2.07 0-2.86zM5.41 20L4 18.59l7.72-7.72 1.47 1.35L5.41 20z\"/>\n",
       "  </svg>\n",
       "      </button>\n",
       "      \n",
       "  <style>\n",
       "    .colab-df-container {\n",
       "      display:flex;\n",
       "      flex-wrap:wrap;\n",
       "      gap: 12px;\n",
       "    }\n",
       "\n",
       "    .colab-df-convert {\n",
       "      background-color: #E8F0FE;\n",
       "      border: none;\n",
       "      border-radius: 50%;\n",
       "      cursor: pointer;\n",
       "      display: none;\n",
       "      fill: #1967D2;\n",
       "      height: 32px;\n",
       "      padding: 0 0 0 0;\n",
       "      width: 32px;\n",
       "    }\n",
       "\n",
       "    .colab-df-convert:hover {\n",
       "      background-color: #E2EBFA;\n",
       "      box-shadow: 0px 1px 2px rgba(60, 64, 67, 0.3), 0px 1px 3px 1px rgba(60, 64, 67, 0.15);\n",
       "      fill: #174EA6;\n",
       "    }\n",
       "\n",
       "    [theme=dark] .colab-df-convert {\n",
       "      background-color: #3B4455;\n",
       "      fill: #D2E3FC;\n",
       "    }\n",
       "\n",
       "    [theme=dark] .colab-df-convert:hover {\n",
       "      background-color: #434B5C;\n",
       "      box-shadow: 0px 1px 3px 1px rgba(0, 0, 0, 0.15);\n",
       "      filter: drop-shadow(0px 1px 2px rgba(0, 0, 0, 0.3));\n",
       "      fill: #FFFFFF;\n",
       "    }\n",
       "  </style>\n",
       "\n",
       "      <script>\n",
       "        const buttonEl =\n",
       "          document.querySelector('#df-7c980cbf-08ff-4d5c-8723-96f755e2fac0 button.colab-df-convert');\n",
       "        buttonEl.style.display =\n",
       "          google.colab.kernel.accessAllowed ? 'block' : 'none';\n",
       "\n",
       "        async function convertToInteractive(key) {\n",
       "          const element = document.querySelector('#df-7c980cbf-08ff-4d5c-8723-96f755e2fac0');\n",
       "          const dataTable =\n",
       "            await google.colab.kernel.invokeFunction('convertToInteractive',\n",
       "                                                     [key], {});\n",
       "          if (!dataTable) return;\n",
       "\n",
       "          const docLinkHtml = 'Like what you see? Visit the ' +\n",
       "            '<a target=\"_blank\" href=https://colab.research.google.com/notebooks/data_table.ipynb>data table notebook</a>'\n",
       "            + ' to learn more about interactive tables.';\n",
       "          element.innerHTML = '';\n",
       "          dataTable['output_type'] = 'display_data';\n",
       "          await google.colab.output.renderOutput(dataTable, element);\n",
       "          const docLink = document.createElement('div');\n",
       "          docLink.innerHTML = docLinkHtml;\n",
       "          element.appendChild(docLink);\n",
       "        }\n",
       "      </script>\n",
       "    </div>\n",
       "  </div>\n",
       "  "
      ],
      "text/plain": [
       "  Rk             Player   Nation Pos          Squad                Comp Age  \\\n",
       "0  1         Max Aarons  eng ENG  DF   Norwich City  eng Premier League  21   \n",
       "1  2   Yunis Abdelhamid   ma MAR  DF          Reims          fr Ligue 1  33   \n",
       "2  3  Salis Abdul Samed   gh GHA  MF  Clermont Foot          fr Ligue 1  21   \n",
       "3  4    Laurent Abergel   fr FRA  MF        Lorient          fr Ligue 1  28   \n",
       "4  5        Charles Abi   fr FRA  FW  Saint-Étienne          fr Ligue 1  21   \n",
       "\n",
       "   Born  MP Starts  ... CrdY CrdR   G+A G+A-PK   xG npxG  xAG npxG+xAG xG+xAG  \\\n",
       "0  2000  34     32  ...    8    0  0.06   0.06  0.9  0.9  1.6      2.5   0.08   \n",
       "1  1987  34     34  ...    5    1  0.06   0.06  1.5  1.5  0.9      2.4   0.07   \n",
       "2  2000  31     29  ...   12    3  0.04   0.04  1.1  1.1  1.0      2.0   0.07   \n",
       "3  1993  34     34  ...    9    0  0.06   0.06  2.1  2.1  4.4      6.4   0.20   \n",
       "4  2000   1      1  ...    0    0  0.00   0.00  0.0  0.0  0.0      0.0   0.00   \n",
       "\n",
       "   Matches  \n",
       "0  Matches  \n",
       "1  Matches  \n",
       "2  Matches  \n",
       "3  Matches  \n",
       "4  Matches  \n",
       "\n",
       "[5 rows x 27 columns]"
      ]
     },
     "execution_count": 7,
     "metadata": {},
     "output_type": "execute_result"
    }
   ],
   "source": [
    "df1.head()"
   ]
  },
  {
   "cell_type": "markdown",
   "metadata": {
    "id": "81qx0fFtujzK"
   },
   "source": [
    "Shots and Goal Creation stats for players in the Top 5 Leagues in Europe"
   ]
  },
  {
   "cell_type": "code",
   "execution_count": 8,
   "metadata": {
    "executionInfo": {
     "elapsed": 25831,
     "status": "ok",
     "timestamp": 1675176882044,
     "user": {
      "displayName": "Taker 9",
      "userId": "13385761573232714992"
     },
     "user_tz": -60
    },
    "id": "5aj3tMCPusaa"
   },
   "outputs": [],
   "source": [
    "url = 'https://fbref.com/en/comps/Big5/2021-2022/gca/players/2021-2022-Big-5-European-Leagues-Stats'\n",
    "r = requests.get(url) #The get() method sends a GET request to the specified url."
   ]
  },
  {
   "cell_type": "code",
   "execution_count": 9,
   "metadata": {
    "executionInfo": {
     "elapsed": 971,
     "status": "ok",
     "timestamp": 1675176883004,
     "user": {
      "displayName": "Taker 9",
      "userId": "13385761573232714992"
     },
     "user_tz": -60
    },
    "id": "TIW2xbLPuyab"
   },
   "outputs": [],
   "source": [
    "df = pd.read_html(r.text, header = None)\n",
    "df_general = df[0]"
   ]
  },
  {
   "cell_type": "code",
   "execution_count": 10,
   "metadata": {
    "executionInfo": {
     "elapsed": 4,
     "status": "ok",
     "timestamp": 1675176883004,
     "user": {
      "displayName": "Taker 9",
      "userId": "13385761573232714992"
     },
     "user_tz": -60
    },
    "id": "VuriwZAAu4pq"
   },
   "outputs": [],
   "source": [
    "new_col = []\n",
    "for i in range(df_general.shape[1]):\n",
    "  #print(df_general.columns[i][1])\n",
    "  new_col.append(df_general.columns[i][1])\n",
    "  "
   ]
  },
  {
   "cell_type": "code",
   "execution_count": 11,
   "metadata": {
    "executionInfo": {
     "elapsed": 689,
     "status": "ok",
     "timestamp": 1675176883690,
     "user": {
      "displayName": "Taker 9",
      "userId": "13385761573232714992"
     },
     "user_tz": -60
    },
    "id": "8P0StSb4SPKh"
   },
   "outputs": [],
   "source": [
    "new_col[14] = 'shots_lead_shots'\n",
    "new_col[22] = 'shots_lead_goals'\n",
    "new_col[11] = 'PassLive_shots'\n",
    "new_col[19] = 'PassLive_goals'\n",
    "new_col[15] = 'PassLive_shots'\n",
    "new_col[23] = 'PassLive_goals'\n",
    "new_col[16] = 'Def_shots'\n",
    "new_col[24] = 'Def_goals'\n",
    "new_col[13] = 'Drib_shots'\n",
    "new_col[21] = 'Drib_goals'"
   ]
  },
  {
   "cell_type": "code",
   "execution_count": 12,
   "metadata": {
    "colab": {
     "base_uri": "https://localhost:8080/"
    },
    "executionInfo": {
     "elapsed": 27,
     "status": "ok",
     "timestamp": 1675176883691,
     "user": {
      "displayName": "Taker 9",
      "userId": "13385761573232714992"
     },
     "user_tz": -60
    },
    "id": "fjhsXi76xG77",
    "outputId": "b9860352-cb74-45f8-eac3-547a7c5c7ae6"
   },
   "outputs": [
    {
     "data": {
      "text/plain": [
       "(3037, 26)"
      ]
     },
     "execution_count": 12,
     "metadata": {},
     "output_type": "execute_result"
    }
   ],
   "source": [
    "df_general.columns = new_col\n",
    "columns_general = df_general.columns\n",
    "df_general.shape"
   ]
  },
  {
   "cell_type": "markdown",
   "metadata": {
    "id": "kiDOtovXMDoH"
   },
   "source": [
    "Removing Duplicates"
   ]
  },
  {
   "cell_type": "code",
   "execution_count": 13,
   "metadata": {
    "executionInfo": {
     "elapsed": 25,
     "status": "ok",
     "timestamp": 1675176883691,
     "user": {
      "displayName": "Taker 9",
      "userId": "13385761573232714992"
     },
     "user_tz": -60
    },
    "id": "NLknsCVYApiK"
   },
   "outputs": [],
   "source": [
    "df2 = df_general.loc[:,~df_general.columns.duplicated()].copy()"
   ]
  },
  {
   "cell_type": "code",
   "execution_count": 14,
   "metadata": {
    "colab": {
     "base_uri": "https://localhost:8080/",
     "height": 404
    },
    "executionInfo": {
     "elapsed": 24,
     "status": "ok",
     "timestamp": 1675176883691,
     "user": {
      "displayName": "Taker 9",
      "userId": "13385761573232714992"
     },
     "user_tz": -60
    },
    "id": "fkfQIdHDxK4z",
    "outputId": "4f90fbd6-3bc7-483a-8c52-67f47a49695c"
   },
   "outputs": [
    {
     "data": {
      "text/html": [
       "\n",
       "  <div id=\"df-2677e3f7-b371-4aec-ad99-0306fcdcb823\">\n",
       "    <div class=\"colab-df-container\">\n",
       "      <div>\n",
       "<style scoped>\n",
       "    .dataframe tbody tr th:only-of-type {\n",
       "        vertical-align: middle;\n",
       "    }\n",
       "\n",
       "    .dataframe tbody tr th {\n",
       "        vertical-align: top;\n",
       "    }\n",
       "\n",
       "    .dataframe thead th {\n",
       "        text-align: right;\n",
       "    }\n",
       "</style>\n",
       "<table border=\"1\" class=\"dataframe\">\n",
       "  <thead>\n",
       "    <tr style=\"text-align: right;\">\n",
       "      <th></th>\n",
       "      <th>Rk</th>\n",
       "      <th>Player</th>\n",
       "      <th>Nation</th>\n",
       "      <th>Pos</th>\n",
       "      <th>Squad</th>\n",
       "      <th>Comp</th>\n",
       "      <th>Age</th>\n",
       "      <th>Born</th>\n",
       "      <th>90s</th>\n",
       "      <th>SCA</th>\n",
       "      <th>...</th>\n",
       "      <th>Drib_shots</th>\n",
       "      <th>shots_lead_shots</th>\n",
       "      <th>Def_shots</th>\n",
       "      <th>GCA</th>\n",
       "      <th>GCA90</th>\n",
       "      <th>PassLive_goals</th>\n",
       "      <th>Drib_goals</th>\n",
       "      <th>shots_lead_goals</th>\n",
       "      <th>Def_goals</th>\n",
       "      <th>Matches</th>\n",
       "    </tr>\n",
       "  </thead>\n",
       "  <tbody>\n",
       "    <tr>\n",
       "      <th>0</th>\n",
       "      <td>1</td>\n",
       "      <td>Max Aarons</td>\n",
       "      <td>eng ENG</td>\n",
       "      <td>DF</td>\n",
       "      <td>Norwich City</td>\n",
       "      <td>eng Premier League</td>\n",
       "      <td>21</td>\n",
       "      <td>2000</td>\n",
       "      <td>32.0</td>\n",
       "      <td>46</td>\n",
       "      <td>...</td>\n",
       "      <td>2</td>\n",
       "      <td>3</td>\n",
       "      <td>1</td>\n",
       "      <td>3</td>\n",
       "      <td>0.09</td>\n",
       "      <td>3</td>\n",
       "      <td>0</td>\n",
       "      <td>0</td>\n",
       "      <td>0</td>\n",
       "      <td>Matches</td>\n",
       "    </tr>\n",
       "    <tr>\n",
       "      <th>1</th>\n",
       "      <td>2</td>\n",
       "      <td>Yunis Abdelhamid</td>\n",
       "      <td>ma MAR</td>\n",
       "      <td>DF</td>\n",
       "      <td>Reims</td>\n",
       "      <td>fr Ligue 1</td>\n",
       "      <td>33</td>\n",
       "      <td>1987</td>\n",
       "      <td>33.1</td>\n",
       "      <td>22</td>\n",
       "      <td>...</td>\n",
       "      <td>2</td>\n",
       "      <td>1</td>\n",
       "      <td>2</td>\n",
       "      <td>1</td>\n",
       "      <td>0.03</td>\n",
       "      <td>1</td>\n",
       "      <td>0</td>\n",
       "      <td>0</td>\n",
       "      <td>0</td>\n",
       "      <td>Matches</td>\n",
       "    </tr>\n",
       "    <tr>\n",
       "      <th>2</th>\n",
       "      <td>3</td>\n",
       "      <td>Salis Abdul Samed</td>\n",
       "      <td>gh GHA</td>\n",
       "      <td>MF</td>\n",
       "      <td>Clermont Foot</td>\n",
       "      <td>fr Ligue 1</td>\n",
       "      <td>21</td>\n",
       "      <td>2000</td>\n",
       "      <td>27.4</td>\n",
       "      <td>50</td>\n",
       "      <td>...</td>\n",
       "      <td>0</td>\n",
       "      <td>4</td>\n",
       "      <td>1</td>\n",
       "      <td>3</td>\n",
       "      <td>0.11</td>\n",
       "      <td>3</td>\n",
       "      <td>0</td>\n",
       "      <td>0</td>\n",
       "      <td>0</td>\n",
       "      <td>Matches</td>\n",
       "    </tr>\n",
       "    <tr>\n",
       "      <th>3</th>\n",
       "      <td>4</td>\n",
       "      <td>Laurent Abergel</td>\n",
       "      <td>fr FRA</td>\n",
       "      <td>MF</td>\n",
       "      <td>Lorient</td>\n",
       "      <td>fr Ligue 1</td>\n",
       "      <td>28</td>\n",
       "      <td>1993</td>\n",
       "      <td>32.8</td>\n",
       "      <td>83</td>\n",
       "      <td>...</td>\n",
       "      <td>3</td>\n",
       "      <td>1</td>\n",
       "      <td>3</td>\n",
       "      <td>9</td>\n",
       "      <td>0.27</td>\n",
       "      <td>8</td>\n",
       "      <td>0</td>\n",
       "      <td>0</td>\n",
       "      <td>0</td>\n",
       "      <td>Matches</td>\n",
       "    </tr>\n",
       "    <tr>\n",
       "      <th>4</th>\n",
       "      <td>5</td>\n",
       "      <td>Charles Abi</td>\n",
       "      <td>fr FRA</td>\n",
       "      <td>FW</td>\n",
       "      <td>Saint-Étienne</td>\n",
       "      <td>fr Ligue 1</td>\n",
       "      <td>21</td>\n",
       "      <td>2000</td>\n",
       "      <td>0.5</td>\n",
       "      <td>1</td>\n",
       "      <td>...</td>\n",
       "      <td>0</td>\n",
       "      <td>0</td>\n",
       "      <td>0</td>\n",
       "      <td>0</td>\n",
       "      <td>0.00</td>\n",
       "      <td>0</td>\n",
       "      <td>0</td>\n",
       "      <td>0</td>\n",
       "      <td>0</td>\n",
       "      <td>Matches</td>\n",
       "    </tr>\n",
       "  </tbody>\n",
       "</table>\n",
       "<p>5 rows × 23 columns</p>\n",
       "</div>\n",
       "      <button class=\"colab-df-convert\" onclick=\"convertToInteractive('df-2677e3f7-b371-4aec-ad99-0306fcdcb823')\"\n",
       "              title=\"Convert this dataframe to an interactive table.\"\n",
       "              style=\"display:none;\">\n",
       "        \n",
       "  <svg xmlns=\"http://www.w3.org/2000/svg\" height=\"24px\"viewBox=\"0 0 24 24\"\n",
       "       width=\"24px\">\n",
       "    <path d=\"M0 0h24v24H0V0z\" fill=\"none\"/>\n",
       "    <path d=\"M18.56 5.44l.94 2.06.94-2.06 2.06-.94-2.06-.94-.94-2.06-.94 2.06-2.06.94zm-11 1L8.5 8.5l.94-2.06 2.06-.94-2.06-.94L8.5 2.5l-.94 2.06-2.06.94zm10 10l.94 2.06.94-2.06 2.06-.94-2.06-.94-.94-2.06-.94 2.06-2.06.94z\"/><path d=\"M17.41 7.96l-1.37-1.37c-.4-.4-.92-.59-1.43-.59-.52 0-1.04.2-1.43.59L10.3 9.45l-7.72 7.72c-.78.78-.78 2.05 0 2.83L4 21.41c.39.39.9.59 1.41.59.51 0 1.02-.2 1.41-.59l7.78-7.78 2.81-2.81c.8-.78.8-2.07 0-2.86zM5.41 20L4 18.59l7.72-7.72 1.47 1.35L5.41 20z\"/>\n",
       "  </svg>\n",
       "      </button>\n",
       "      \n",
       "  <style>\n",
       "    .colab-df-container {\n",
       "      display:flex;\n",
       "      flex-wrap:wrap;\n",
       "      gap: 12px;\n",
       "    }\n",
       "\n",
       "    .colab-df-convert {\n",
       "      background-color: #E8F0FE;\n",
       "      border: none;\n",
       "      border-radius: 50%;\n",
       "      cursor: pointer;\n",
       "      display: none;\n",
       "      fill: #1967D2;\n",
       "      height: 32px;\n",
       "      padding: 0 0 0 0;\n",
       "      width: 32px;\n",
       "    }\n",
       "\n",
       "    .colab-df-convert:hover {\n",
       "      background-color: #E2EBFA;\n",
       "      box-shadow: 0px 1px 2px rgba(60, 64, 67, 0.3), 0px 1px 3px 1px rgba(60, 64, 67, 0.15);\n",
       "      fill: #174EA6;\n",
       "    }\n",
       "\n",
       "    [theme=dark] .colab-df-convert {\n",
       "      background-color: #3B4455;\n",
       "      fill: #D2E3FC;\n",
       "    }\n",
       "\n",
       "    [theme=dark] .colab-df-convert:hover {\n",
       "      background-color: #434B5C;\n",
       "      box-shadow: 0px 1px 3px 1px rgba(0, 0, 0, 0.15);\n",
       "      filter: drop-shadow(0px 1px 2px rgba(0, 0, 0, 0.3));\n",
       "      fill: #FFFFFF;\n",
       "    }\n",
       "  </style>\n",
       "\n",
       "      <script>\n",
       "        const buttonEl =\n",
       "          document.querySelector('#df-2677e3f7-b371-4aec-ad99-0306fcdcb823 button.colab-df-convert');\n",
       "        buttonEl.style.display =\n",
       "          google.colab.kernel.accessAllowed ? 'block' : 'none';\n",
       "\n",
       "        async function convertToInteractive(key) {\n",
       "          const element = document.querySelector('#df-2677e3f7-b371-4aec-ad99-0306fcdcb823');\n",
       "          const dataTable =\n",
       "            await google.colab.kernel.invokeFunction('convertToInteractive',\n",
       "                                                     [key], {});\n",
       "          if (!dataTable) return;\n",
       "\n",
       "          const docLinkHtml = 'Like what you see? Visit the ' +\n",
       "            '<a target=\"_blank\" href=https://colab.research.google.com/notebooks/data_table.ipynb>data table notebook</a>'\n",
       "            + ' to learn more about interactive tables.';\n",
       "          element.innerHTML = '';\n",
       "          dataTable['output_type'] = 'display_data';\n",
       "          await google.colab.output.renderOutput(dataTable, element);\n",
       "          const docLink = document.createElement('div');\n",
       "          docLink.innerHTML = docLinkHtml;\n",
       "          element.appendChild(docLink);\n",
       "        }\n",
       "      </script>\n",
       "    </div>\n",
       "  </div>\n",
       "  "
      ],
      "text/plain": [
       "  Rk             Player   Nation Pos          Squad                Comp Age  \\\n",
       "0  1         Max Aarons  eng ENG  DF   Norwich City  eng Premier League  21   \n",
       "1  2   Yunis Abdelhamid   ma MAR  DF          Reims          fr Ligue 1  33   \n",
       "2  3  Salis Abdul Samed   gh GHA  MF  Clermont Foot          fr Ligue 1  21   \n",
       "3  4    Laurent Abergel   fr FRA  MF        Lorient          fr Ligue 1  28   \n",
       "4  5        Charles Abi   fr FRA  FW  Saint-Étienne          fr Ligue 1  21   \n",
       "\n",
       "   Born   90s SCA  ... Drib_shots shots_lead_shots Def_shots GCA GCA90  \\\n",
       "0  2000  32.0  46  ...          2                3         1   3  0.09   \n",
       "1  1987  33.1  22  ...          2                1         2   1  0.03   \n",
       "2  2000  27.4  50  ...          0                4         1   3  0.11   \n",
       "3  1993  32.8  83  ...          3                1         3   9  0.27   \n",
       "4  2000   0.5   1  ...          0                0         0   0  0.00   \n",
       "\n",
       "  PassLive_goals Drib_goals shots_lead_goals Def_goals  Matches  \n",
       "0              3          0                0         0  Matches  \n",
       "1              1          0                0         0  Matches  \n",
       "2              3          0                0         0  Matches  \n",
       "3              8          0                0         0  Matches  \n",
       "4              0          0                0         0  Matches  \n",
       "\n",
       "[5 rows x 23 columns]"
      ]
     },
     "execution_count": 14,
     "metadata": {},
     "output_type": "execute_result"
    }
   ],
   "source": [
    "df2.head()"
   ]
  },
  {
   "cell_type": "code",
   "execution_count": 15,
   "metadata": {
    "colab": {
     "base_uri": "https://localhost:8080/"
    },
    "executionInfo": {
     "elapsed": 23,
     "status": "ok",
     "timestamp": 1675176883692,
     "user": {
      "displayName": "Taker 9",
      "userId": "13385761573232714992"
     },
     "user_tz": -60
    },
    "id": "ZtnGAiempSCZ",
    "outputId": "23d1d494-cf8d-4a64-c415-f9d2249474c0"
   },
   "outputs": [
    {
     "data": {
      "text/plain": [
       "{'90s',\n",
       " 'Age',\n",
       " 'Born',\n",
       " 'Comp',\n",
       " 'Matches',\n",
       " 'Nation',\n",
       " 'Player',\n",
       " 'Pos',\n",
       " 'Rk',\n",
       " 'Squad'}"
      ]
     },
     "execution_count": 15,
     "metadata": {},
     "output_type": "execute_result"
    }
   ],
   "source": [
    "matched_features = set(df1.columns).intersection(df2.columns)\n",
    "matched_features"
   ]
  },
  {
   "cell_type": "markdown",
   "metadata": {
    "id": "GSij10xtzlQh"
   },
   "source": [
    "Combining Data Frames"
   ]
  },
  {
   "cell_type": "code",
   "execution_count": 16,
   "metadata": {
    "colab": {
     "base_uri": "https://localhost:8080/"
    },
    "executionInfo": {
     "elapsed": 22,
     "status": "ok",
     "timestamp": 1675176883692,
     "user": {
      "displayName": "Taker 9",
      "userId": "13385761573232714992"
     },
     "user_tz": -60
    },
    "id": "wFuP3kiezoCl",
    "outputId": "61ff0c36-9595-4535-cea8-44efb37b2339"
   },
   "outputs": [
    {
     "data": {
      "text/plain": [
       "(3037, 50)"
      ]
     },
     "execution_count": 16,
     "metadata": {},
     "output_type": "execute_result"
    }
   ],
   "source": [
    "df3 = pd.concat([df2,df1], axis = 1)\n",
    "df3.shape"
   ]
  },
  {
   "cell_type": "markdown",
   "metadata": {
    "id": "ZmwWF0RkMLLn"
   },
   "source": [
    "Removing Duplicates"
   ]
  },
  {
   "cell_type": "code",
   "execution_count": 17,
   "metadata": {
    "executionInfo": {
     "elapsed": 22,
     "status": "ok",
     "timestamp": 1675176883692,
     "user": {
      "displayName": "Taker 9",
      "userId": "13385761573232714992"
     },
     "user_tz": -60
    },
    "id": "kCYhqvT8KtR1"
   },
   "outputs": [],
   "source": [
    "df_fin = df3.loc[:,~df3.columns.duplicated()].copy()"
   ]
  },
  {
   "cell_type": "code",
   "execution_count": 18,
   "metadata": {
    "colab": {
     "base_uri": "https://localhost:8080/",
     "height": 280
    },
    "executionInfo": {
     "elapsed": 21,
     "status": "ok",
     "timestamp": 1675176883692,
     "user": {
      "displayName": "Taker 9",
      "userId": "13385761573232714992"
     },
     "user_tz": -60
    },
    "id": "JlmvA8530ynX",
    "outputId": "d69536aa-267b-4851-9c7d-1bf4e3613faa"
   },
   "outputs": [
    {
     "data": {
      "text/html": [
       "\n",
       "  <div id=\"df-3baf77e8-db9e-43eb-922f-372c04b96679\">\n",
       "    <div class=\"colab-df-container\">\n",
       "      <div>\n",
       "<style scoped>\n",
       "    .dataframe tbody tr th:only-of-type {\n",
       "        vertical-align: middle;\n",
       "    }\n",
       "\n",
       "    .dataframe tbody tr th {\n",
       "        vertical-align: top;\n",
       "    }\n",
       "\n",
       "    .dataframe thead th {\n",
       "        text-align: right;\n",
       "    }\n",
       "</style>\n",
       "<table border=\"1\" class=\"dataframe\">\n",
       "  <thead>\n",
       "    <tr style=\"text-align: right;\">\n",
       "      <th></th>\n",
       "      <th>Rk</th>\n",
       "      <th>Player</th>\n",
       "      <th>Nation</th>\n",
       "      <th>Pos</th>\n",
       "      <th>Squad</th>\n",
       "      <th>Comp</th>\n",
       "      <th>Age</th>\n",
       "      <th>Born</th>\n",
       "      <th>90s</th>\n",
       "      <th>SCA</th>\n",
       "      <th>...</th>\n",
       "      <th>PKatt</th>\n",
       "      <th>CrdY</th>\n",
       "      <th>CrdR</th>\n",
       "      <th>G+A</th>\n",
       "      <th>G+A-PK</th>\n",
       "      <th>xG</th>\n",
       "      <th>npxG</th>\n",
       "      <th>xAG</th>\n",
       "      <th>npxG+xAG</th>\n",
       "      <th>xG+xAG</th>\n",
       "    </tr>\n",
       "  </thead>\n",
       "  <tbody>\n",
       "    <tr>\n",
       "      <th>0</th>\n",
       "      <td>1</td>\n",
       "      <td>Max Aarons</td>\n",
       "      <td>eng ENG</td>\n",
       "      <td>DF</td>\n",
       "      <td>Norwich City</td>\n",
       "      <td>eng Premier League</td>\n",
       "      <td>21</td>\n",
       "      <td>2000</td>\n",
       "      <td>32.0</td>\n",
       "      <td>46</td>\n",
       "      <td>...</td>\n",
       "      <td>0</td>\n",
       "      <td>8</td>\n",
       "      <td>0</td>\n",
       "      <td>0.06</td>\n",
       "      <td>0.06</td>\n",
       "      <td>0.9</td>\n",
       "      <td>0.9</td>\n",
       "      <td>1.6</td>\n",
       "      <td>2.5</td>\n",
       "      <td>0.08</td>\n",
       "    </tr>\n",
       "    <tr>\n",
       "      <th>1</th>\n",
       "      <td>2</td>\n",
       "      <td>Yunis Abdelhamid</td>\n",
       "      <td>ma MAR</td>\n",
       "      <td>DF</td>\n",
       "      <td>Reims</td>\n",
       "      <td>fr Ligue 1</td>\n",
       "      <td>33</td>\n",
       "      <td>1987</td>\n",
       "      <td>33.1</td>\n",
       "      <td>22</td>\n",
       "      <td>...</td>\n",
       "      <td>0</td>\n",
       "      <td>5</td>\n",
       "      <td>1</td>\n",
       "      <td>0.06</td>\n",
       "      <td>0.06</td>\n",
       "      <td>1.5</td>\n",
       "      <td>1.5</td>\n",
       "      <td>0.9</td>\n",
       "      <td>2.4</td>\n",
       "      <td>0.07</td>\n",
       "    </tr>\n",
       "    <tr>\n",
       "      <th>2</th>\n",
       "      <td>3</td>\n",
       "      <td>Salis Abdul Samed</td>\n",
       "      <td>gh GHA</td>\n",
       "      <td>MF</td>\n",
       "      <td>Clermont Foot</td>\n",
       "      <td>fr Ligue 1</td>\n",
       "      <td>21</td>\n",
       "      <td>2000</td>\n",
       "      <td>27.4</td>\n",
       "      <td>50</td>\n",
       "      <td>...</td>\n",
       "      <td>0</td>\n",
       "      <td>12</td>\n",
       "      <td>3</td>\n",
       "      <td>0.04</td>\n",
       "      <td>0.04</td>\n",
       "      <td>1.1</td>\n",
       "      <td>1.1</td>\n",
       "      <td>1.0</td>\n",
       "      <td>2.0</td>\n",
       "      <td>0.07</td>\n",
       "    </tr>\n",
       "    <tr>\n",
       "      <th>3</th>\n",
       "      <td>4</td>\n",
       "      <td>Laurent Abergel</td>\n",
       "      <td>fr FRA</td>\n",
       "      <td>MF</td>\n",
       "      <td>Lorient</td>\n",
       "      <td>fr Ligue 1</td>\n",
       "      <td>28</td>\n",
       "      <td>1993</td>\n",
       "      <td>32.8</td>\n",
       "      <td>83</td>\n",
       "      <td>...</td>\n",
       "      <td>0</td>\n",
       "      <td>9</td>\n",
       "      <td>0</td>\n",
       "      <td>0.06</td>\n",
       "      <td>0.06</td>\n",
       "      <td>2.1</td>\n",
       "      <td>2.1</td>\n",
       "      <td>4.4</td>\n",
       "      <td>6.4</td>\n",
       "      <td>0.20</td>\n",
       "    </tr>\n",
       "    <tr>\n",
       "      <th>4</th>\n",
       "      <td>5</td>\n",
       "      <td>Charles Abi</td>\n",
       "      <td>fr FRA</td>\n",
       "      <td>FW</td>\n",
       "      <td>Saint-Étienne</td>\n",
       "      <td>fr Ligue 1</td>\n",
       "      <td>21</td>\n",
       "      <td>2000</td>\n",
       "      <td>0.5</td>\n",
       "      <td>1</td>\n",
       "      <td>...</td>\n",
       "      <td>0</td>\n",
       "      <td>0</td>\n",
       "      <td>0</td>\n",
       "      <td>0.00</td>\n",
       "      <td>0.00</td>\n",
       "      <td>0.0</td>\n",
       "      <td>0.0</td>\n",
       "      <td>0.0</td>\n",
       "      <td>0.0</td>\n",
       "      <td>0.00</td>\n",
       "    </tr>\n",
       "  </tbody>\n",
       "</table>\n",
       "<p>5 rows × 40 columns</p>\n",
       "</div>\n",
       "      <button class=\"colab-df-convert\" onclick=\"convertToInteractive('df-3baf77e8-db9e-43eb-922f-372c04b96679')\"\n",
       "              title=\"Convert this dataframe to an interactive table.\"\n",
       "              style=\"display:none;\">\n",
       "        \n",
       "  <svg xmlns=\"http://www.w3.org/2000/svg\" height=\"24px\"viewBox=\"0 0 24 24\"\n",
       "       width=\"24px\">\n",
       "    <path d=\"M0 0h24v24H0V0z\" fill=\"none\"/>\n",
       "    <path d=\"M18.56 5.44l.94 2.06.94-2.06 2.06-.94-2.06-.94-.94-2.06-.94 2.06-2.06.94zm-11 1L8.5 8.5l.94-2.06 2.06-.94-2.06-.94L8.5 2.5l-.94 2.06-2.06.94zm10 10l.94 2.06.94-2.06 2.06-.94-2.06-.94-.94-2.06-.94 2.06-2.06.94z\"/><path d=\"M17.41 7.96l-1.37-1.37c-.4-.4-.92-.59-1.43-.59-.52 0-1.04.2-1.43.59L10.3 9.45l-7.72 7.72c-.78.78-.78 2.05 0 2.83L4 21.41c.39.39.9.59 1.41.59.51 0 1.02-.2 1.41-.59l7.78-7.78 2.81-2.81c.8-.78.8-2.07 0-2.86zM5.41 20L4 18.59l7.72-7.72 1.47 1.35L5.41 20z\"/>\n",
       "  </svg>\n",
       "      </button>\n",
       "      \n",
       "  <style>\n",
       "    .colab-df-container {\n",
       "      display:flex;\n",
       "      flex-wrap:wrap;\n",
       "      gap: 12px;\n",
       "    }\n",
       "\n",
       "    .colab-df-convert {\n",
       "      background-color: #E8F0FE;\n",
       "      border: none;\n",
       "      border-radius: 50%;\n",
       "      cursor: pointer;\n",
       "      display: none;\n",
       "      fill: #1967D2;\n",
       "      height: 32px;\n",
       "      padding: 0 0 0 0;\n",
       "      width: 32px;\n",
       "    }\n",
       "\n",
       "    .colab-df-convert:hover {\n",
       "      background-color: #E2EBFA;\n",
       "      box-shadow: 0px 1px 2px rgba(60, 64, 67, 0.3), 0px 1px 3px 1px rgba(60, 64, 67, 0.15);\n",
       "      fill: #174EA6;\n",
       "    }\n",
       "\n",
       "    [theme=dark] .colab-df-convert {\n",
       "      background-color: #3B4455;\n",
       "      fill: #D2E3FC;\n",
       "    }\n",
       "\n",
       "    [theme=dark] .colab-df-convert:hover {\n",
       "      background-color: #434B5C;\n",
       "      box-shadow: 0px 1px 3px 1px rgba(0, 0, 0, 0.15);\n",
       "      filter: drop-shadow(0px 1px 2px rgba(0, 0, 0, 0.3));\n",
       "      fill: #FFFFFF;\n",
       "    }\n",
       "  </style>\n",
       "\n",
       "      <script>\n",
       "        const buttonEl =\n",
       "          document.querySelector('#df-3baf77e8-db9e-43eb-922f-372c04b96679 button.colab-df-convert');\n",
       "        buttonEl.style.display =\n",
       "          google.colab.kernel.accessAllowed ? 'block' : 'none';\n",
       "\n",
       "        async function convertToInteractive(key) {\n",
       "          const element = document.querySelector('#df-3baf77e8-db9e-43eb-922f-372c04b96679');\n",
       "          const dataTable =\n",
       "            await google.colab.kernel.invokeFunction('convertToInteractive',\n",
       "                                                     [key], {});\n",
       "          if (!dataTable) return;\n",
       "\n",
       "          const docLinkHtml = 'Like what you see? Visit the ' +\n",
       "            '<a target=\"_blank\" href=https://colab.research.google.com/notebooks/data_table.ipynb>data table notebook</a>'\n",
       "            + ' to learn more about interactive tables.';\n",
       "          element.innerHTML = '';\n",
       "          dataTable['output_type'] = 'display_data';\n",
       "          await google.colab.output.renderOutput(dataTable, element);\n",
       "          const docLink = document.createElement('div');\n",
       "          docLink.innerHTML = docLinkHtml;\n",
       "          element.appendChild(docLink);\n",
       "        }\n",
       "      </script>\n",
       "    </div>\n",
       "  </div>\n",
       "  "
      ],
      "text/plain": [
       "  Rk             Player   Nation Pos          Squad                Comp Age  \\\n",
       "0  1         Max Aarons  eng ENG  DF   Norwich City  eng Premier League  21   \n",
       "1  2   Yunis Abdelhamid   ma MAR  DF          Reims          fr Ligue 1  33   \n",
       "2  3  Salis Abdul Samed   gh GHA  MF  Clermont Foot          fr Ligue 1  21   \n",
       "3  4    Laurent Abergel   fr FRA  MF        Lorient          fr Ligue 1  28   \n",
       "4  5        Charles Abi   fr FRA  FW  Saint-Étienne          fr Ligue 1  21   \n",
       "\n",
       "   Born   90s SCA  ... PKatt CrdY CrdR   G+A G+A-PK   xG npxG  xAG npxG+xAG  \\\n",
       "0  2000  32.0  46  ...     0    8    0  0.06   0.06  0.9  0.9  1.6      2.5   \n",
       "1  1987  33.1  22  ...     0    5    1  0.06   0.06  1.5  1.5  0.9      2.4   \n",
       "2  2000  27.4  50  ...     0   12    3  0.04   0.04  1.1  1.1  1.0      2.0   \n",
       "3  1993  32.8  83  ...     0    9    0  0.06   0.06  2.1  2.1  4.4      6.4   \n",
       "4  2000   0.5   1  ...     0    0    0  0.00   0.00  0.0  0.0  0.0      0.0   \n",
       "\n",
       "  xG+xAG  \n",
       "0   0.08  \n",
       "1   0.07  \n",
       "2   0.07  \n",
       "3   0.20  \n",
       "4   0.00  \n",
       "\n",
       "[5 rows x 40 columns]"
      ]
     },
     "execution_count": 18,
     "metadata": {},
     "output_type": "execute_result"
    }
   ],
   "source": [
    "df_fin.head()"
   ]
  },
  {
   "cell_type": "markdown",
   "metadata": {
    "id": "g-Sa_MbCMNNJ"
   },
   "source": [
    "Saving Data Frame into a CSV file"
   ]
  },
  {
   "cell_type": "code",
   "execution_count": 19,
   "metadata": {
    "executionInfo": {
     "elapsed": 21,
     "status": "ok",
     "timestamp": 1675176883693,
     "user": {
      "displayName": "Taker 9",
      "userId": "13385761573232714992"
     },
     "user_tz": -60
    },
    "id": "B1-rqXzxv30S"
   },
   "outputs": [],
   "source": [
    "#df_fin.to_csv('dataset.csv')"
   ]
  },
  {
   "cell_type": "markdown",
   "metadata": {
    "id": "V1z18mvF0CwM"
   },
   "source": [
    "Mapping to identify Acronyms"
   ]
  },
  {
   "cell_type": "code",
   "execution_count": 20,
   "metadata": {
    "executionInfo": {
     "elapsed": 21,
     "status": "ok",
     "timestamp": 1675176883693,
     "user": {
      "displayName": "Taker 9",
      "userId": "13385761573232714992"
     },
     "user_tz": -60
    },
    "id": "1ZIogdpe0CBv"
   },
   "outputs": [],
   "source": [
    "A2F= {'Rk':'Rank', 'Player':'Player', 'Nation':'Nation', 'Pos': 'Position', 'Squad':'Squad', 'Comp':'Competition', 'Age':'Age', 'Born':'Born', '90s':'Full matches played in the entire season',\n",
    "       'SCA':'Shot-Creating Actions', 'SCA90':'Shot-Creating Actions per 90', 'PassLive':'Completed live-ball passes that lead to a shot attempt', 'PassDead':'Completed dead-ball passes that lead to a shot attempt Includes free kicks, corner kicks, kick offs, throw-ins and goal kicks', \n",
    "       'GCA':' Goal-Creating Actions', 'GCA90':' Goal-Creating Actions per 90', 'PassLive':' Completed live-ball passes that lead to a goal', 'PassDead':'Completed dead-ball passes that lead to a goal', 'Drib':'Successful dribbles that lead to a goal', 'Sh':' Shots that lead to another goal-scoring shot', 'Fld':' Fouls drawn that lead to a goal', 'Def':'Defensive actions that lead to a goal',\n",
    "       'Matches':'Matches', 'MP':'Matches played', 'Starts':'games Started by the player', 'Min':'Minutes Played', 'Gls':'Goals Scored', 'Ast':'Assists', 'G-PK':'Non-Penalty Goals', 'PK':'Penalty Kicks Made', 'PKatt':'Penalty Kicks Made',\n",
    "       'CrdY':'Yellow Cards', 'CrdR':'Red Cards', 'xG':'Expected Goals', 'npxG': 'non penalty expected goals',\n",
    "       'xAG':'Expected Assisted Goals'}"
   ]
  },
  {
   "cell_type": "markdown",
   "metadata": {
    "id": "R_v0wIz6ZBcO"
   },
   "source": [
    "Remove Redundant features"
   ]
  },
  {
   "cell_type": "code",
   "execution_count": 21,
   "metadata": {
    "executionInfo": {
     "elapsed": 22,
     "status": "ok",
     "timestamp": 1675176883694,
     "user": {
      "displayName": "Taker 9",
      "userId": "13385761573232714992"
     },
     "user_tz": -60
    },
    "id": "61wlNjMFYTph"
   },
   "outputs": [],
   "source": [
    "df_fin.drop(['Rk','npxG+xAG', 'xG+xAG','Born','Matches','G+A', 'G+A-PK', 'xG', 'npxG', 'xAG', 'G+A-PK'], axis=1, inplace= True)"
   ]
  },
  {
   "cell_type": "markdown",
   "metadata": {
    "id": "w-yvicyicp3f"
   },
   "source": [
    "Creating Top Team Feature"
   ]
  },
  {
   "cell_type": "code",
   "execution_count": 22,
   "metadata": {
    "colab": {
     "base_uri": "https://localhost:8080/",
     "height": 366
    },
    "executionInfo": {
     "elapsed": 22,
     "status": "ok",
     "timestamp": 1675176883694,
     "user": {
      "displayName": "Taker 9",
      "userId": "13385761573232714992"
     },
     "user_tz": -60
    },
    "id": "9hGTYGSOcpUr",
    "outputId": "d935564e-4e55-44e0-c040-2ecda1073449"
   },
   "outputs": [
    {
     "data": {
      "text/html": [
       "\n",
       "  <div id=\"df-dd776d5f-8804-45f0-9eb4-36173d2da493\">\n",
       "    <div class=\"colab-df-container\">\n",
       "      <div>\n",
       "<style scoped>\n",
       "    .dataframe tbody tr th:only-of-type {\n",
       "        vertical-align: middle;\n",
       "    }\n",
       "\n",
       "    .dataframe tbody tr th {\n",
       "        vertical-align: top;\n",
       "    }\n",
       "\n",
       "    .dataframe thead th {\n",
       "        text-align: right;\n",
       "    }\n",
       "</style>\n",
       "<table border=\"1\" class=\"dataframe\">\n",
       "  <thead>\n",
       "    <tr style=\"text-align: right;\">\n",
       "      <th></th>\n",
       "      <th>Player</th>\n",
       "      <th>Nation</th>\n",
       "      <th>Pos</th>\n",
       "      <th>Squad</th>\n",
       "      <th>Comp</th>\n",
       "      <th>Age</th>\n",
       "      <th>90s</th>\n",
       "      <th>SCA</th>\n",
       "      <th>SCA90</th>\n",
       "      <th>PassLive_shots</th>\n",
       "      <th>...</th>\n",
       "      <th>Starts</th>\n",
       "      <th>Min</th>\n",
       "      <th>Gls</th>\n",
       "      <th>Ast</th>\n",
       "      <th>G-PK</th>\n",
       "      <th>PK</th>\n",
       "      <th>PKatt</th>\n",
       "      <th>CrdY</th>\n",
       "      <th>CrdR</th>\n",
       "      <th>Top_Team</th>\n",
       "    </tr>\n",
       "  </thead>\n",
       "  <tbody>\n",
       "    <tr>\n",
       "      <th>0</th>\n",
       "      <td>Max Aarons</td>\n",
       "      <td>eng ENG</td>\n",
       "      <td>DF</td>\n",
       "      <td>Norwich City</td>\n",
       "      <td>eng Premier League</td>\n",
       "      <td>21</td>\n",
       "      <td>32.0</td>\n",
       "      <td>46</td>\n",
       "      <td>1.44</td>\n",
       "      <td>34</td>\n",
       "      <td>...</td>\n",
       "      <td>32</td>\n",
       "      <td>2881</td>\n",
       "      <td>0</td>\n",
       "      <td>2</td>\n",
       "      <td>0</td>\n",
       "      <td>0</td>\n",
       "      <td>0</td>\n",
       "      <td>8</td>\n",
       "      <td>0</td>\n",
       "      <td>0</td>\n",
       "    </tr>\n",
       "    <tr>\n",
       "      <th>1</th>\n",
       "      <td>Yunis Abdelhamid</td>\n",
       "      <td>ma MAR</td>\n",
       "      <td>DF</td>\n",
       "      <td>Reims</td>\n",
       "      <td>fr Ligue 1</td>\n",
       "      <td>33</td>\n",
       "      <td>33.1</td>\n",
       "      <td>22</td>\n",
       "      <td>0.66</td>\n",
       "      <td>17</td>\n",
       "      <td>...</td>\n",
       "      <td>34</td>\n",
       "      <td>2983</td>\n",
       "      <td>2</td>\n",
       "      <td>0</td>\n",
       "      <td>2</td>\n",
       "      <td>0</td>\n",
       "      <td>0</td>\n",
       "      <td>5</td>\n",
       "      <td>1</td>\n",
       "      <td>0</td>\n",
       "    </tr>\n",
       "    <tr>\n",
       "      <th>2</th>\n",
       "      <td>Salis Abdul Samed</td>\n",
       "      <td>gh GHA</td>\n",
       "      <td>MF</td>\n",
       "      <td>Clermont Foot</td>\n",
       "      <td>fr Ligue 1</td>\n",
       "      <td>21</td>\n",
       "      <td>27.4</td>\n",
       "      <td>50</td>\n",
       "      <td>1.83</td>\n",
       "      <td>41</td>\n",
       "      <td>...</td>\n",
       "      <td>29</td>\n",
       "      <td>2462</td>\n",
       "      <td>1</td>\n",
       "      <td>0</td>\n",
       "      <td>1</td>\n",
       "      <td>0</td>\n",
       "      <td>0</td>\n",
       "      <td>12</td>\n",
       "      <td>3</td>\n",
       "      <td>0</td>\n",
       "    </tr>\n",
       "    <tr>\n",
       "      <th>3</th>\n",
       "      <td>Laurent Abergel</td>\n",
       "      <td>fr FRA</td>\n",
       "      <td>MF</td>\n",
       "      <td>Lorient</td>\n",
       "      <td>fr Ligue 1</td>\n",
       "      <td>28</td>\n",
       "      <td>32.8</td>\n",
       "      <td>83</td>\n",
       "      <td>2.53</td>\n",
       "      <td>67</td>\n",
       "      <td>...</td>\n",
       "      <td>34</td>\n",
       "      <td>2956</td>\n",
       "      <td>0</td>\n",
       "      <td>2</td>\n",
       "      <td>0</td>\n",
       "      <td>0</td>\n",
       "      <td>0</td>\n",
       "      <td>9</td>\n",
       "      <td>0</td>\n",
       "      <td>0</td>\n",
       "    </tr>\n",
       "    <tr>\n",
       "      <th>4</th>\n",
       "      <td>Charles Abi</td>\n",
       "      <td>fr FRA</td>\n",
       "      <td>FW</td>\n",
       "      <td>Saint-Étienne</td>\n",
       "      <td>fr Ligue 1</td>\n",
       "      <td>21</td>\n",
       "      <td>0.5</td>\n",
       "      <td>1</td>\n",
       "      <td>2.00</td>\n",
       "      <td>1</td>\n",
       "      <td>...</td>\n",
       "      <td>1</td>\n",
       "      <td>45</td>\n",
       "      <td>0</td>\n",
       "      <td>0</td>\n",
       "      <td>0</td>\n",
       "      <td>0</td>\n",
       "      <td>0</td>\n",
       "      <td>0</td>\n",
       "      <td>0</td>\n",
       "      <td>0</td>\n",
       "    </tr>\n",
       "  </tbody>\n",
       "</table>\n",
       "<p>5 rows × 31 columns</p>\n",
       "</div>\n",
       "      <button class=\"colab-df-convert\" onclick=\"convertToInteractive('df-dd776d5f-8804-45f0-9eb4-36173d2da493')\"\n",
       "              title=\"Convert this dataframe to an interactive table.\"\n",
       "              style=\"display:none;\">\n",
       "        \n",
       "  <svg xmlns=\"http://www.w3.org/2000/svg\" height=\"24px\"viewBox=\"0 0 24 24\"\n",
       "       width=\"24px\">\n",
       "    <path d=\"M0 0h24v24H0V0z\" fill=\"none\"/>\n",
       "    <path d=\"M18.56 5.44l.94 2.06.94-2.06 2.06-.94-2.06-.94-.94-2.06-.94 2.06-2.06.94zm-11 1L8.5 8.5l.94-2.06 2.06-.94-2.06-.94L8.5 2.5l-.94 2.06-2.06.94zm10 10l.94 2.06.94-2.06 2.06-.94-2.06-.94-.94-2.06-.94 2.06-2.06.94z\"/><path d=\"M17.41 7.96l-1.37-1.37c-.4-.4-.92-.59-1.43-.59-.52 0-1.04.2-1.43.59L10.3 9.45l-7.72 7.72c-.78.78-.78 2.05 0 2.83L4 21.41c.39.39.9.59 1.41.59.51 0 1.02-.2 1.41-.59l7.78-7.78 2.81-2.81c.8-.78.8-2.07 0-2.86zM5.41 20L4 18.59l7.72-7.72 1.47 1.35L5.41 20z\"/>\n",
       "  </svg>\n",
       "      </button>\n",
       "      \n",
       "  <style>\n",
       "    .colab-df-container {\n",
       "      display:flex;\n",
       "      flex-wrap:wrap;\n",
       "      gap: 12px;\n",
       "    }\n",
       "\n",
       "    .colab-df-convert {\n",
       "      background-color: #E8F0FE;\n",
       "      border: none;\n",
       "      border-radius: 50%;\n",
       "      cursor: pointer;\n",
       "      display: none;\n",
       "      fill: #1967D2;\n",
       "      height: 32px;\n",
       "      padding: 0 0 0 0;\n",
       "      width: 32px;\n",
       "    }\n",
       "\n",
       "    .colab-df-convert:hover {\n",
       "      background-color: #E2EBFA;\n",
       "      box-shadow: 0px 1px 2px rgba(60, 64, 67, 0.3), 0px 1px 3px 1px rgba(60, 64, 67, 0.15);\n",
       "      fill: #174EA6;\n",
       "    }\n",
       "\n",
       "    [theme=dark] .colab-df-convert {\n",
       "      background-color: #3B4455;\n",
       "      fill: #D2E3FC;\n",
       "    }\n",
       "\n",
       "    [theme=dark] .colab-df-convert:hover {\n",
       "      background-color: #434B5C;\n",
       "      box-shadow: 0px 1px 3px 1px rgba(0, 0, 0, 0.15);\n",
       "      filter: drop-shadow(0px 1px 2px rgba(0, 0, 0, 0.3));\n",
       "      fill: #FFFFFF;\n",
       "    }\n",
       "  </style>\n",
       "\n",
       "      <script>\n",
       "        const buttonEl =\n",
       "          document.querySelector('#df-dd776d5f-8804-45f0-9eb4-36173d2da493 button.colab-df-convert');\n",
       "        buttonEl.style.display =\n",
       "          google.colab.kernel.accessAllowed ? 'block' : 'none';\n",
       "\n",
       "        async function convertToInteractive(key) {\n",
       "          const element = document.querySelector('#df-dd776d5f-8804-45f0-9eb4-36173d2da493');\n",
       "          const dataTable =\n",
       "            await google.colab.kernel.invokeFunction('convertToInteractive',\n",
       "                                                     [key], {});\n",
       "          if (!dataTable) return;\n",
       "\n",
       "          const docLinkHtml = 'Like what you see? Visit the ' +\n",
       "            '<a target=\"_blank\" href=https://colab.research.google.com/notebooks/data_table.ipynb>data table notebook</a>'\n",
       "            + ' to learn more about interactive tables.';\n",
       "          element.innerHTML = '';\n",
       "          dataTable['output_type'] = 'display_data';\n",
       "          await google.colab.output.renderOutput(dataTable, element);\n",
       "          const docLink = document.createElement('div');\n",
       "          docLink.innerHTML = docLinkHtml;\n",
       "          element.appendChild(docLink);\n",
       "        }\n",
       "      </script>\n",
       "    </div>\n",
       "  </div>\n",
       "  "
      ],
      "text/plain": [
       "              Player   Nation Pos          Squad                Comp Age  \\\n",
       "0         Max Aarons  eng ENG  DF   Norwich City  eng Premier League  21   \n",
       "1   Yunis Abdelhamid   ma MAR  DF          Reims          fr Ligue 1  33   \n",
       "2  Salis Abdul Samed   gh GHA  MF  Clermont Foot          fr Ligue 1  21   \n",
       "3    Laurent Abergel   fr FRA  MF        Lorient          fr Ligue 1  28   \n",
       "4        Charles Abi   fr FRA  FW  Saint-Étienne          fr Ligue 1  21   \n",
       "\n",
       "    90s SCA SCA90 PassLive_shots  ... Starts   Min Gls Ast G-PK PK PKatt CrdY  \\\n",
       "0  32.0  46  1.44             34  ...     32  2881   0   2    0  0     0    8   \n",
       "1  33.1  22  0.66             17  ...     34  2983   2   0    2  0     0    5   \n",
       "2  27.4  50  1.83             41  ...     29  2462   1   0    1  0     0   12   \n",
       "3  32.8  83  2.53             67  ...     34  2956   0   2    0  0     0    9   \n",
       "4   0.5   1  2.00              1  ...      1    45   0   0    0  0     0    0   \n",
       "\n",
       "  CrdR Top_Team  \n",
       "0    0        0  \n",
       "1    1        0  \n",
       "2    3        0  \n",
       "3    0        0  \n",
       "4    0        0  \n",
       "\n",
       "[5 rows x 31 columns]"
      ]
     },
     "execution_count": 22,
     "metadata": {},
     "output_type": "execute_result"
    }
   ],
   "source": [
    "Top_teams = ['Arsenal','Tottenham','Chelsea','Liverpool','Manchester City','Manchester Utd', 'Real Madrid','Barcelona', 'Atlético Madrid', 'Marseille', 'Paris S-G', 'Bayern Munich', 'Dortmund', 'Milan', 'Inter', 'Roma', 'Juventus', 'Napoli' ]\n",
    "df_fin['Top_Team'] = df_fin['Squad'].apply(lambda x: 1 if x in Top_teams else 0)\n",
    "df_fin.head()"
   ]
  },
  {
   "cell_type": "code",
   "execution_count": 23,
   "metadata": {
    "colab": {
     "base_uri": "https://localhost:8080/"
    },
    "executionInfo": {
     "elapsed": 22,
     "status": "ok",
     "timestamp": 1675176883695,
     "user": {
      "displayName": "Taker 9",
      "userId": "13385761573232714992"
     },
     "user_tz": -60
    },
    "id": "xvd9arh_lGUV",
    "outputId": "1f0b4c7e-3738-490c-92d5-102dba35dfc7"
   },
   "outputs": [
    {
     "data": {
      "text/plain": [
       "0    2513\n",
       "1     524\n",
       "Name: Top_Team, dtype: int64"
      ]
     },
     "execution_count": 23,
     "metadata": {},
     "output_type": "execute_result"
    }
   ],
   "source": [
    "df_fin['Top_Team'].value_counts()"
   ]
  },
  {
   "cell_type": "markdown",
   "metadata": {
    "id": "FdKyBx2Brc87"
   },
   "source": [
    "Removing empty Rows"
   ]
  },
  {
   "cell_type": "code",
   "execution_count": 24,
   "metadata": {
    "executionInfo": {
     "elapsed": 22,
     "status": "ok",
     "timestamp": 1675176883696,
     "user": {
      "displayName": "Taker 9",
      "userId": "13385761573232714992"
     },
     "user_tz": -60
    },
    "id": "h0FHizmUhG93"
   },
   "outputs": [],
   "source": [
    "df_fin_filtered = df_fin[df_fin['Squad'] != 'Squad']"
   ]
  },
  {
   "cell_type": "code",
   "execution_count": 25,
   "metadata": {
    "colab": {
     "base_uri": "https://localhost:8080/"
    },
    "executionInfo": {
     "elapsed": 21,
     "status": "ok",
     "timestamp": 1675176883696,
     "user": {
      "displayName": "Taker 9",
      "userId": "13385761573232714992"
     },
     "user_tz": -60
    },
    "id": "4SLxRvEtgmZ9",
    "outputId": "c3a7b93a-1d13-4408-c564-bcc0103630e8"
   },
   "outputs": [
    {
     "data": {
      "text/plain": [
       "Salernitana       42\n",
       "Genoa             40\n",
       "Saint-Étienne     39\n",
       "Bordeaux          39\n",
       "Venezia           39\n",
       "                  ..\n",
       "West Ham          25\n",
       "Celta Vigo        25\n",
       "Tottenham         25\n",
       "Crystal Palace    24\n",
       "Burnley           23\n",
       "Name: Squad, Length: 98, dtype: int64"
      ]
     },
     "execution_count": 25,
     "metadata": {},
     "output_type": "execute_result"
    }
   ],
   "source": [
    "df_fin_filtered.Squad.value_counts()"
   ]
  },
  {
   "cell_type": "markdown",
   "metadata": {
    "id": "Qj6IHYK7rjbc"
   },
   "source": [
    "Adding the Strikers Features"
   ]
  },
  {
   "cell_type": "code",
   "execution_count": 26,
   "metadata": {
    "colab": {
     "base_uri": "https://localhost:8080/"
    },
    "executionInfo": {
     "elapsed": 21,
     "status": "ok",
     "timestamp": 1675176883696,
     "user": {
      "displayName": "Taker 9",
      "userId": "13385761573232714992"
     },
     "user_tz": -60
    },
    "id": "EqsPeBXWrwYZ",
    "outputId": "9f3bec79-08ba-4007-a780-8739d847318b"
   },
   "outputs": [
    {
     "name": "stderr",
     "output_type": "stream",
     "text": [
      "<ipython-input-26-b1122bbbacd0>:2: SettingWithCopyWarning: \n",
      "A value is trying to be set on a copy of a slice from a DataFrame.\n",
      "Try using .loc[row_indexer,col_indexer] = value instead\n",
      "\n",
      "See the caveats in the documentation: https://pandas.pydata.org/pandas-docs/stable/user_guide/indexing.html#returning-a-view-versus-a-copy\n",
      "  df_fin_filtered['Strikers'] = df_fin_filtered.Pos.apply(lambda x: 1 if x in positions else 0)\n"
     ]
    }
   ],
   "source": [
    "positions = ['FW','AM','LW','RW']\n",
    "df_fin_filtered['Strikers'] = df_fin_filtered.Pos.apply(lambda x: 1 if x in positions else 0)"
   ]
  },
  {
   "cell_type": "code",
   "execution_count": 27,
   "metadata": {
    "colab": {
     "base_uri": "https://localhost:8080/"
    },
    "executionInfo": {
     "elapsed": 20,
     "status": "ok",
     "timestamp": 1675176883697,
     "user": {
      "displayName": "Taker 9",
      "userId": "13385761573232714992"
     },
     "user_tz": -60
    },
    "id": "wecQuBL6sVK_",
    "outputId": "3c67419e-24e6-4a52-cd6a-acc978055e95"
   },
   "outputs": [
    {
     "data": {
      "text/plain": [
       "0    2522\n",
       "1     399\n",
       "Name: Strikers, dtype: int64"
      ]
     },
     "execution_count": 27,
     "metadata": {},
     "output_type": "execute_result"
    }
   ],
   "source": [
    "df_fin_filtered['Strikers'].value_counts()"
   ]
  },
  {
   "cell_type": "markdown",
   "metadata": {
    "id": "H9gfetCi4sS9"
   },
   "source": [
    "# Exploratory Data Analysis"
   ]
  },
  {
   "cell_type": "code",
   "execution_count": 28,
   "metadata": {
    "executionInfo": {
     "elapsed": 305,
     "status": "ok",
     "timestamp": 1675176883983,
     "user": {
      "displayName": "Taker 9",
      "userId": "13385761573232714992"
     },
     "user_tz": -60
    },
    "id": "2D_VnHjf4xuR"
   },
   "outputs": [],
   "source": [
    "import matplotlib.pyplot as plt\n",
    "import seaborn as sns\n",
    "import numpy as np"
   ]
  },
  {
   "cell_type": "code",
   "execution_count": 29,
   "metadata": {
    "colab": {
     "base_uri": "https://localhost:8080/",
     "height": 0
    },
    "executionInfo": {
     "elapsed": 9,
     "status": "ok",
     "timestamp": 1675176883984,
     "user": {
      "displayName": "Taker 9",
      "userId": "13385761573232714992"
     },
     "user_tz": -60
    },
    "id": "GBA6Tz3x5ulg",
    "outputId": "2baa5e24-a767-4795-c57f-4c4f60c98b91"
   },
   "outputs": [
    {
     "data": {
      "text/html": [
       "\n",
       "  <div id=\"df-417c81ea-990d-4f65-8e31-7c58df0e8b73\">\n",
       "    <div class=\"colab-df-container\">\n",
       "      <div>\n",
       "<style scoped>\n",
       "    .dataframe tbody tr th:only-of-type {\n",
       "        vertical-align: middle;\n",
       "    }\n",
       "\n",
       "    .dataframe tbody tr th {\n",
       "        vertical-align: top;\n",
       "    }\n",
       "\n",
       "    .dataframe thead th {\n",
       "        text-align: right;\n",
       "    }\n",
       "</style>\n",
       "<table border=\"1\" class=\"dataframe\">\n",
       "  <thead>\n",
       "    <tr style=\"text-align: right;\">\n",
       "      <th></th>\n",
       "      <th>Player</th>\n",
       "      <th>Nation</th>\n",
       "      <th>Pos</th>\n",
       "      <th>Squad</th>\n",
       "      <th>Comp</th>\n",
       "      <th>Age</th>\n",
       "      <th>90s</th>\n",
       "      <th>SCA</th>\n",
       "      <th>SCA90</th>\n",
       "      <th>PassLive_shots</th>\n",
       "      <th>...</th>\n",
       "      <th>Min</th>\n",
       "      <th>Gls</th>\n",
       "      <th>Ast</th>\n",
       "      <th>G-PK</th>\n",
       "      <th>PK</th>\n",
       "      <th>PKatt</th>\n",
       "      <th>CrdY</th>\n",
       "      <th>CrdR</th>\n",
       "      <th>Top_Team</th>\n",
       "      <th>Strikers</th>\n",
       "    </tr>\n",
       "  </thead>\n",
       "  <tbody>\n",
       "    <tr>\n",
       "      <th>0</th>\n",
       "      <td>Max Aarons</td>\n",
       "      <td>eng ENG</td>\n",
       "      <td>DF</td>\n",
       "      <td>Norwich City</td>\n",
       "      <td>eng Premier League</td>\n",
       "      <td>21</td>\n",
       "      <td>32.0</td>\n",
       "      <td>46</td>\n",
       "      <td>1.44</td>\n",
       "      <td>34</td>\n",
       "      <td>...</td>\n",
       "      <td>2881</td>\n",
       "      <td>0</td>\n",
       "      <td>2</td>\n",
       "      <td>0</td>\n",
       "      <td>0</td>\n",
       "      <td>0</td>\n",
       "      <td>8</td>\n",
       "      <td>0</td>\n",
       "      <td>0</td>\n",
       "      <td>0</td>\n",
       "    </tr>\n",
       "    <tr>\n",
       "      <th>1</th>\n",
       "      <td>Yunis Abdelhamid</td>\n",
       "      <td>ma MAR</td>\n",
       "      <td>DF</td>\n",
       "      <td>Reims</td>\n",
       "      <td>fr Ligue 1</td>\n",
       "      <td>33</td>\n",
       "      <td>33.1</td>\n",
       "      <td>22</td>\n",
       "      <td>0.66</td>\n",
       "      <td>17</td>\n",
       "      <td>...</td>\n",
       "      <td>2983</td>\n",
       "      <td>2</td>\n",
       "      <td>0</td>\n",
       "      <td>2</td>\n",
       "      <td>0</td>\n",
       "      <td>0</td>\n",
       "      <td>5</td>\n",
       "      <td>1</td>\n",
       "      <td>0</td>\n",
       "      <td>0</td>\n",
       "    </tr>\n",
       "    <tr>\n",
       "      <th>2</th>\n",
       "      <td>Salis Abdul Samed</td>\n",
       "      <td>gh GHA</td>\n",
       "      <td>MF</td>\n",
       "      <td>Clermont Foot</td>\n",
       "      <td>fr Ligue 1</td>\n",
       "      <td>21</td>\n",
       "      <td>27.4</td>\n",
       "      <td>50</td>\n",
       "      <td>1.83</td>\n",
       "      <td>41</td>\n",
       "      <td>...</td>\n",
       "      <td>2462</td>\n",
       "      <td>1</td>\n",
       "      <td>0</td>\n",
       "      <td>1</td>\n",
       "      <td>0</td>\n",
       "      <td>0</td>\n",
       "      <td>12</td>\n",
       "      <td>3</td>\n",
       "      <td>0</td>\n",
       "      <td>0</td>\n",
       "    </tr>\n",
       "    <tr>\n",
       "      <th>3</th>\n",
       "      <td>Laurent Abergel</td>\n",
       "      <td>fr FRA</td>\n",
       "      <td>MF</td>\n",
       "      <td>Lorient</td>\n",
       "      <td>fr Ligue 1</td>\n",
       "      <td>28</td>\n",
       "      <td>32.8</td>\n",
       "      <td>83</td>\n",
       "      <td>2.53</td>\n",
       "      <td>67</td>\n",
       "      <td>...</td>\n",
       "      <td>2956</td>\n",
       "      <td>0</td>\n",
       "      <td>2</td>\n",
       "      <td>0</td>\n",
       "      <td>0</td>\n",
       "      <td>0</td>\n",
       "      <td>9</td>\n",
       "      <td>0</td>\n",
       "      <td>0</td>\n",
       "      <td>0</td>\n",
       "    </tr>\n",
       "    <tr>\n",
       "      <th>4</th>\n",
       "      <td>Charles Abi</td>\n",
       "      <td>fr FRA</td>\n",
       "      <td>FW</td>\n",
       "      <td>Saint-Étienne</td>\n",
       "      <td>fr Ligue 1</td>\n",
       "      <td>21</td>\n",
       "      <td>0.5</td>\n",
       "      <td>1</td>\n",
       "      <td>2.00</td>\n",
       "      <td>1</td>\n",
       "      <td>...</td>\n",
       "      <td>45</td>\n",
       "      <td>0</td>\n",
       "      <td>0</td>\n",
       "      <td>0</td>\n",
       "      <td>0</td>\n",
       "      <td>0</td>\n",
       "      <td>0</td>\n",
       "      <td>0</td>\n",
       "      <td>0</td>\n",
       "      <td>1</td>\n",
       "    </tr>\n",
       "  </tbody>\n",
       "</table>\n",
       "<p>5 rows × 32 columns</p>\n",
       "</div>\n",
       "      <button class=\"colab-df-convert\" onclick=\"convertToInteractive('df-417c81ea-990d-4f65-8e31-7c58df0e8b73')\"\n",
       "              title=\"Convert this dataframe to an interactive table.\"\n",
       "              style=\"display:none;\">\n",
       "        \n",
       "  <svg xmlns=\"http://www.w3.org/2000/svg\" height=\"24px\"viewBox=\"0 0 24 24\"\n",
       "       width=\"24px\">\n",
       "    <path d=\"M0 0h24v24H0V0z\" fill=\"none\"/>\n",
       "    <path d=\"M18.56 5.44l.94 2.06.94-2.06 2.06-.94-2.06-.94-.94-2.06-.94 2.06-2.06.94zm-11 1L8.5 8.5l.94-2.06 2.06-.94-2.06-.94L8.5 2.5l-.94 2.06-2.06.94zm10 10l.94 2.06.94-2.06 2.06-.94-2.06-.94-.94-2.06-.94 2.06-2.06.94z\"/><path d=\"M17.41 7.96l-1.37-1.37c-.4-.4-.92-.59-1.43-.59-.52 0-1.04.2-1.43.59L10.3 9.45l-7.72 7.72c-.78.78-.78 2.05 0 2.83L4 21.41c.39.39.9.59 1.41.59.51 0 1.02-.2 1.41-.59l7.78-7.78 2.81-2.81c.8-.78.8-2.07 0-2.86zM5.41 20L4 18.59l7.72-7.72 1.47 1.35L5.41 20z\"/>\n",
       "  </svg>\n",
       "      </button>\n",
       "      \n",
       "  <style>\n",
       "    .colab-df-container {\n",
       "      display:flex;\n",
       "      flex-wrap:wrap;\n",
       "      gap: 12px;\n",
       "    }\n",
       "\n",
       "    .colab-df-convert {\n",
       "      background-color: #E8F0FE;\n",
       "      border: none;\n",
       "      border-radius: 50%;\n",
       "      cursor: pointer;\n",
       "      display: none;\n",
       "      fill: #1967D2;\n",
       "      height: 32px;\n",
       "      padding: 0 0 0 0;\n",
       "      width: 32px;\n",
       "    }\n",
       "\n",
       "    .colab-df-convert:hover {\n",
       "      background-color: #E2EBFA;\n",
       "      box-shadow: 0px 1px 2px rgba(60, 64, 67, 0.3), 0px 1px 3px 1px rgba(60, 64, 67, 0.15);\n",
       "      fill: #174EA6;\n",
       "    }\n",
       "\n",
       "    [theme=dark] .colab-df-convert {\n",
       "      background-color: #3B4455;\n",
       "      fill: #D2E3FC;\n",
       "    }\n",
       "\n",
       "    [theme=dark] .colab-df-convert:hover {\n",
       "      background-color: #434B5C;\n",
       "      box-shadow: 0px 1px 3px 1px rgba(0, 0, 0, 0.15);\n",
       "      filter: drop-shadow(0px 1px 2px rgba(0, 0, 0, 0.3));\n",
       "      fill: #FFFFFF;\n",
       "    }\n",
       "  </style>\n",
       "\n",
       "      <script>\n",
       "        const buttonEl =\n",
       "          document.querySelector('#df-417c81ea-990d-4f65-8e31-7c58df0e8b73 button.colab-df-convert');\n",
       "        buttonEl.style.display =\n",
       "          google.colab.kernel.accessAllowed ? 'block' : 'none';\n",
       "\n",
       "        async function convertToInteractive(key) {\n",
       "          const element = document.querySelector('#df-417c81ea-990d-4f65-8e31-7c58df0e8b73');\n",
       "          const dataTable =\n",
       "            await google.colab.kernel.invokeFunction('convertToInteractive',\n",
       "                                                     [key], {});\n",
       "          if (!dataTable) return;\n",
       "\n",
       "          const docLinkHtml = 'Like what you see? Visit the ' +\n",
       "            '<a target=\"_blank\" href=https://colab.research.google.com/notebooks/data_table.ipynb>data table notebook</a>'\n",
       "            + ' to learn more about interactive tables.';\n",
       "          element.innerHTML = '';\n",
       "          dataTable['output_type'] = 'display_data';\n",
       "          await google.colab.output.renderOutput(dataTable, element);\n",
       "          const docLink = document.createElement('div');\n",
       "          docLink.innerHTML = docLinkHtml;\n",
       "          element.appendChild(docLink);\n",
       "        }\n",
       "      </script>\n",
       "    </div>\n",
       "  </div>\n",
       "  "
      ],
      "text/plain": [
       "              Player   Nation Pos          Squad                Comp Age  \\\n",
       "0         Max Aarons  eng ENG  DF   Norwich City  eng Premier League  21   \n",
       "1   Yunis Abdelhamid   ma MAR  DF          Reims          fr Ligue 1  33   \n",
       "2  Salis Abdul Samed   gh GHA  MF  Clermont Foot          fr Ligue 1  21   \n",
       "3    Laurent Abergel   fr FRA  MF        Lorient          fr Ligue 1  28   \n",
       "4        Charles Abi   fr FRA  FW  Saint-Étienne          fr Ligue 1  21   \n",
       "\n",
       "    90s SCA SCA90 PassLive_shots  ...   Min Gls Ast G-PK PK PKatt CrdY CrdR  \\\n",
       "0  32.0  46  1.44             34  ...  2881   0   2    0  0     0    8    0   \n",
       "1  33.1  22  0.66             17  ...  2983   2   0    2  0     0    5    1   \n",
       "2  27.4  50  1.83             41  ...  2462   1   0    1  0     0   12    3   \n",
       "3  32.8  83  2.53             67  ...  2956   0   2    0  0     0    9    0   \n",
       "4   0.5   1  2.00              1  ...    45   0   0    0  0     0    0    0   \n",
       "\n",
       "  Top_Team Strikers  \n",
       "0        0        0  \n",
       "1        0        0  \n",
       "2        0        0  \n",
       "3        0        0  \n",
       "4        0        1  \n",
       "\n",
       "[5 rows x 32 columns]"
      ]
     },
     "execution_count": 29,
     "metadata": {},
     "output_type": "execute_result"
    }
   ],
   "source": [
    "df_fin_filtered.head()"
   ]
  },
  {
   "cell_type": "code",
   "execution_count": 30,
   "metadata": {
    "executionInfo": {
     "elapsed": 9,
     "status": "ok",
     "timestamp": 1675176883985,
     "user": {
      "displayName": "Taker 9",
      "userId": "13385761573232714992"
     },
     "user_tz": -60
    },
    "id": "6uH2905N6PbV"
   },
   "outputs": [],
   "source": [
    "df_main = df_fin_filtered.copy()"
   ]
  },
  {
   "cell_type": "markdown",
   "metadata": {
    "id": "zDEC54vYwzQP"
   },
   "source": [
    "Extracting categorical data from dataframe and converting strings into numerics"
   ]
  },
  {
   "cell_type": "code",
   "execution_count": 31,
   "metadata": {
    "colab": {
     "base_uri": "https://localhost:8080/",
     "height": 0
    },
    "executionInfo": {
     "elapsed": 303,
     "status": "ok",
     "timestamp": 1675176884279,
     "user": {
      "displayName": "Taker 9",
      "userId": "13385761573232714992"
     },
     "user_tz": -60
    },
    "id": "i4DwR2AoBr74",
    "outputId": "cb196ef3-d17a-4b1b-d099-f8f3c93aa73c"
   },
   "outputs": [
    {
     "data": {
      "text/html": [
       "\n",
       "  <div id=\"df-cd3af7f7-cc85-48ac-bb4e-9e8b457901f9\">\n",
       "    <div class=\"colab-df-container\">\n",
       "      <div>\n",
       "<style scoped>\n",
       "    .dataframe tbody tr th:only-of-type {\n",
       "        vertical-align: middle;\n",
       "    }\n",
       "\n",
       "    .dataframe tbody tr th {\n",
       "        vertical-align: top;\n",
       "    }\n",
       "\n",
       "    .dataframe thead th {\n",
       "        text-align: right;\n",
       "    }\n",
       "</style>\n",
       "<table border=\"1\" class=\"dataframe\">\n",
       "  <thead>\n",
       "    <tr style=\"text-align: right;\">\n",
       "      <th></th>\n",
       "      <th>Age</th>\n",
       "      <th>90s</th>\n",
       "      <th>SCA</th>\n",
       "      <th>SCA90</th>\n",
       "      <th>PassLive_shots</th>\n",
       "      <th>PassDead</th>\n",
       "      <th>Drib_shots</th>\n",
       "      <th>shots_lead_shots</th>\n",
       "      <th>Def_shots</th>\n",
       "      <th>GCA</th>\n",
       "      <th>...</th>\n",
       "      <th>Min</th>\n",
       "      <th>Gls</th>\n",
       "      <th>Ast</th>\n",
       "      <th>G-PK</th>\n",
       "      <th>PK</th>\n",
       "      <th>PKatt</th>\n",
       "      <th>CrdY</th>\n",
       "      <th>CrdR</th>\n",
       "      <th>Top_Team</th>\n",
       "      <th>Strikers</th>\n",
       "    </tr>\n",
       "  </thead>\n",
       "  <tbody>\n",
       "    <tr>\n",
       "      <th>count</th>\n",
       "      <td>2921.000000</td>\n",
       "      <td>2921.000000</td>\n",
       "      <td>2917.000000</td>\n",
       "      <td>2917.000000</td>\n",
       "      <td>2917.000000</td>\n",
       "      <td>2917.000000</td>\n",
       "      <td>2917.000000</td>\n",
       "      <td>2917.000000</td>\n",
       "      <td>2917.000000</td>\n",
       "      <td>2917.000000</td>\n",
       "      <td>...</td>\n",
       "      <td>2921.000000</td>\n",
       "      <td>2921.000000</td>\n",
       "      <td>2921.000000</td>\n",
       "      <td>2921.000000</td>\n",
       "      <td>2921.000000</td>\n",
       "      <td>2921.000000</td>\n",
       "      <td>2921.000000</td>\n",
       "      <td>2921.000000</td>\n",
       "      <td>2921.000000</td>\n",
       "      <td>2921.000000</td>\n",
       "    </tr>\n",
       "    <tr>\n",
       "      <th>mean</th>\n",
       "      <td>25.236563</td>\n",
       "      <td>13.721602</td>\n",
       "      <td>27.075420</td>\n",
       "      <td>2.127401</td>\n",
       "      <td>19.493315</td>\n",
       "      <td>2.472746</td>\n",
       "      <td>1.534796</td>\n",
       "      <td>1.709290</td>\n",
       "      <td>0.439493</td>\n",
       "      <td>2.929379</td>\n",
       "      <td>...</td>\n",
       "      <td>1234.984937</td>\n",
       "      <td>1.701814</td>\n",
       "      <td>1.183499</td>\n",
       "      <td>1.540568</td>\n",
       "      <td>0.161246</td>\n",
       "      <td>0.199589</td>\n",
       "      <td>2.625813</td>\n",
       "      <td>0.120849</td>\n",
       "      <td>0.179391</td>\n",
       "      <td>0.136597</td>\n",
       "    </tr>\n",
       "    <tr>\n",
       "      <th>std</th>\n",
       "      <td>4.635684</td>\n",
       "      <td>10.866804</td>\n",
       "      <td>30.890529</td>\n",
       "      <td>3.555898</td>\n",
       "      <td>21.688017</td>\n",
       "      <td>6.329354</td>\n",
       "      <td>2.884477</td>\n",
       "      <td>2.509343</td>\n",
       "      <td>0.795773</td>\n",
       "      <td>4.064612</td>\n",
       "      <td>...</td>\n",
       "      <td>978.079236</td>\n",
       "      <td>3.184578</td>\n",
       "      <td>1.991217</td>\n",
       "      <td>2.794285</td>\n",
       "      <td>0.726469</td>\n",
       "      <td>0.852603</td>\n",
       "      <td>2.759046</td>\n",
       "      <td>0.364682</td>\n",
       "      <td>0.383745</td>\n",
       "      <td>0.343480</td>\n",
       "    </tr>\n",
       "    <tr>\n",
       "      <th>min</th>\n",
       "      <td>15.000000</td>\n",
       "      <td>0.000000</td>\n",
       "      <td>0.000000</td>\n",
       "      <td>0.000000</td>\n",
       "      <td>0.000000</td>\n",
       "      <td>0.000000</td>\n",
       "      <td>0.000000</td>\n",
       "      <td>0.000000</td>\n",
       "      <td>0.000000</td>\n",
       "      <td>0.000000</td>\n",
       "      <td>...</td>\n",
       "      <td>1.000000</td>\n",
       "      <td>0.000000</td>\n",
       "      <td>0.000000</td>\n",
       "      <td>0.000000</td>\n",
       "      <td>0.000000</td>\n",
       "      <td>0.000000</td>\n",
       "      <td>0.000000</td>\n",
       "      <td>0.000000</td>\n",
       "      <td>0.000000</td>\n",
       "      <td>0.000000</td>\n",
       "    </tr>\n",
       "    <tr>\n",
       "      <th>25%</th>\n",
       "      <td>22.000000</td>\n",
       "      <td>3.400000</td>\n",
       "      <td>3.000000</td>\n",
       "      <td>0.660000</td>\n",
       "      <td>2.000000</td>\n",
       "      <td>0.000000</td>\n",
       "      <td>0.000000</td>\n",
       "      <td>0.000000</td>\n",
       "      <td>0.000000</td>\n",
       "      <td>0.000000</td>\n",
       "      <td>...</td>\n",
       "      <td>307.000000</td>\n",
       "      <td>0.000000</td>\n",
       "      <td>0.000000</td>\n",
       "      <td>0.000000</td>\n",
       "      <td>0.000000</td>\n",
       "      <td>0.000000</td>\n",
       "      <td>0.000000</td>\n",
       "      <td>0.000000</td>\n",
       "      <td>0.000000</td>\n",
       "      <td>0.000000</td>\n",
       "    </tr>\n",
       "    <tr>\n",
       "      <th>50%</th>\n",
       "      <td>25.000000</td>\n",
       "      <td>12.200000</td>\n",
       "      <td>16.000000</td>\n",
       "      <td>1.770000</td>\n",
       "      <td>12.000000</td>\n",
       "      <td>0.000000</td>\n",
       "      <td>0.000000</td>\n",
       "      <td>1.000000</td>\n",
       "      <td>0.000000</td>\n",
       "      <td>1.000000</td>\n",
       "      <td>...</td>\n",
       "      <td>1102.000000</td>\n",
       "      <td>0.000000</td>\n",
       "      <td>0.000000</td>\n",
       "      <td>0.000000</td>\n",
       "      <td>0.000000</td>\n",
       "      <td>0.000000</td>\n",
       "      <td>2.000000</td>\n",
       "      <td>0.000000</td>\n",
       "      <td>0.000000</td>\n",
       "      <td>0.000000</td>\n",
       "    </tr>\n",
       "    <tr>\n",
       "      <th>75%</th>\n",
       "      <td>29.000000</td>\n",
       "      <td>22.500000</td>\n",
       "      <td>40.000000</td>\n",
       "      <td>2.810000</td>\n",
       "      <td>30.000000</td>\n",
       "      <td>2.000000</td>\n",
       "      <td>2.000000</td>\n",
       "      <td>2.000000</td>\n",
       "      <td>1.000000</td>\n",
       "      <td>4.000000</td>\n",
       "      <td>...</td>\n",
       "      <td>2025.000000</td>\n",
       "      <td>2.000000</td>\n",
       "      <td>2.000000</td>\n",
       "      <td>2.000000</td>\n",
       "      <td>0.000000</td>\n",
       "      <td>0.000000</td>\n",
       "      <td>4.000000</td>\n",
       "      <td>0.000000</td>\n",
       "      <td>0.000000</td>\n",
       "      <td>0.000000</td>\n",
       "    </tr>\n",
       "    <tr>\n",
       "      <th>max</th>\n",
       "      <td>40.000000</td>\n",
       "      <td>38.000000</td>\n",
       "      <td>191.000000</td>\n",
       "      <td>90.000000</td>\n",
       "      <td>134.000000</td>\n",
       "      <td>71.000000</td>\n",
       "      <td>31.000000</td>\n",
       "      <td>19.000000</td>\n",
       "      <td>5.000000</td>\n",
       "      <td>40.000000</td>\n",
       "      <td>...</td>\n",
       "      <td>3420.000000</td>\n",
       "      <td>35.000000</td>\n",
       "      <td>18.000000</td>\n",
       "      <td>30.000000</td>\n",
       "      <td>9.000000</td>\n",
       "      <td>13.000000</td>\n",
       "      <td>16.000000</td>\n",
       "      <td>3.000000</td>\n",
       "      <td>1.000000</td>\n",
       "      <td>1.000000</td>\n",
       "    </tr>\n",
       "  </tbody>\n",
       "</table>\n",
       "<p>8 rows × 27 columns</p>\n",
       "</div>\n",
       "      <button class=\"colab-df-convert\" onclick=\"convertToInteractive('df-cd3af7f7-cc85-48ac-bb4e-9e8b457901f9')\"\n",
       "              title=\"Convert this dataframe to an interactive table.\"\n",
       "              style=\"display:none;\">\n",
       "        \n",
       "  <svg xmlns=\"http://www.w3.org/2000/svg\" height=\"24px\"viewBox=\"0 0 24 24\"\n",
       "       width=\"24px\">\n",
       "    <path d=\"M0 0h24v24H0V0z\" fill=\"none\"/>\n",
       "    <path d=\"M18.56 5.44l.94 2.06.94-2.06 2.06-.94-2.06-.94-.94-2.06-.94 2.06-2.06.94zm-11 1L8.5 8.5l.94-2.06 2.06-.94-2.06-.94L8.5 2.5l-.94 2.06-2.06.94zm10 10l.94 2.06.94-2.06 2.06-.94-2.06-.94-.94-2.06-.94 2.06-2.06.94z\"/><path d=\"M17.41 7.96l-1.37-1.37c-.4-.4-.92-.59-1.43-.59-.52 0-1.04.2-1.43.59L10.3 9.45l-7.72 7.72c-.78.78-.78 2.05 0 2.83L4 21.41c.39.39.9.59 1.41.59.51 0 1.02-.2 1.41-.59l7.78-7.78 2.81-2.81c.8-.78.8-2.07 0-2.86zM5.41 20L4 18.59l7.72-7.72 1.47 1.35L5.41 20z\"/>\n",
       "  </svg>\n",
       "      </button>\n",
       "      \n",
       "  <style>\n",
       "    .colab-df-container {\n",
       "      display:flex;\n",
       "      flex-wrap:wrap;\n",
       "      gap: 12px;\n",
       "    }\n",
       "\n",
       "    .colab-df-convert {\n",
       "      background-color: #E8F0FE;\n",
       "      border: none;\n",
       "      border-radius: 50%;\n",
       "      cursor: pointer;\n",
       "      display: none;\n",
       "      fill: #1967D2;\n",
       "      height: 32px;\n",
       "      padding: 0 0 0 0;\n",
       "      width: 32px;\n",
       "    }\n",
       "\n",
       "    .colab-df-convert:hover {\n",
       "      background-color: #E2EBFA;\n",
       "      box-shadow: 0px 1px 2px rgba(60, 64, 67, 0.3), 0px 1px 3px 1px rgba(60, 64, 67, 0.15);\n",
       "      fill: #174EA6;\n",
       "    }\n",
       "\n",
       "    [theme=dark] .colab-df-convert {\n",
       "      background-color: #3B4455;\n",
       "      fill: #D2E3FC;\n",
       "    }\n",
       "\n",
       "    [theme=dark] .colab-df-convert:hover {\n",
       "      background-color: #434B5C;\n",
       "      box-shadow: 0px 1px 3px 1px rgba(0, 0, 0, 0.15);\n",
       "      filter: drop-shadow(0px 1px 2px rgba(0, 0, 0, 0.3));\n",
       "      fill: #FFFFFF;\n",
       "    }\n",
       "  </style>\n",
       "\n",
       "      <script>\n",
       "        const buttonEl =\n",
       "          document.querySelector('#df-cd3af7f7-cc85-48ac-bb4e-9e8b457901f9 button.colab-df-convert');\n",
       "        buttonEl.style.display =\n",
       "          google.colab.kernel.accessAllowed ? 'block' : 'none';\n",
       "\n",
       "        async function convertToInteractive(key) {\n",
       "          const element = document.querySelector('#df-cd3af7f7-cc85-48ac-bb4e-9e8b457901f9');\n",
       "          const dataTable =\n",
       "            await google.colab.kernel.invokeFunction('convertToInteractive',\n",
       "                                                     [key], {});\n",
       "          if (!dataTable) return;\n",
       "\n",
       "          const docLinkHtml = 'Like what you see? Visit the ' +\n",
       "            '<a target=\"_blank\" href=https://colab.research.google.com/notebooks/data_table.ipynb>data table notebook</a>'\n",
       "            + ' to learn more about interactive tables.';\n",
       "          element.innerHTML = '';\n",
       "          dataTable['output_type'] = 'display_data';\n",
       "          await google.colab.output.renderOutput(dataTable, element);\n",
       "          const docLink = document.createElement('div');\n",
       "          docLink.innerHTML = docLinkHtml;\n",
       "          element.appendChild(docLink);\n",
       "        }\n",
       "      </script>\n",
       "    </div>\n",
       "  </div>\n",
       "  "
      ],
      "text/plain": [
       "               Age          90s          SCA        SCA90  PassLive_shots  \\\n",
       "count  2921.000000  2921.000000  2917.000000  2917.000000     2917.000000   \n",
       "mean     25.236563    13.721602    27.075420     2.127401       19.493315   \n",
       "std       4.635684    10.866804    30.890529     3.555898       21.688017   \n",
       "min      15.000000     0.000000     0.000000     0.000000        0.000000   \n",
       "25%      22.000000     3.400000     3.000000     0.660000        2.000000   \n",
       "50%      25.000000    12.200000    16.000000     1.770000       12.000000   \n",
       "75%      29.000000    22.500000    40.000000     2.810000       30.000000   \n",
       "max      40.000000    38.000000   191.000000    90.000000      134.000000   \n",
       "\n",
       "          PassDead   Drib_shots  shots_lead_shots    Def_shots          GCA  \\\n",
       "count  2917.000000  2917.000000       2917.000000  2917.000000  2917.000000   \n",
       "mean      2.472746     1.534796          1.709290     0.439493     2.929379   \n",
       "std       6.329354     2.884477          2.509343     0.795773     4.064612   \n",
       "min       0.000000     0.000000          0.000000     0.000000     0.000000   \n",
       "25%       0.000000     0.000000          0.000000     0.000000     0.000000   \n",
       "50%       0.000000     0.000000          1.000000     0.000000     1.000000   \n",
       "75%       2.000000     2.000000          2.000000     1.000000     4.000000   \n",
       "max      71.000000    31.000000         19.000000     5.000000    40.000000   \n",
       "\n",
       "       ...          Min          Gls          Ast         G-PK           PK  \\\n",
       "count  ...  2921.000000  2921.000000  2921.000000  2921.000000  2921.000000   \n",
       "mean   ...  1234.984937     1.701814     1.183499     1.540568     0.161246   \n",
       "std    ...   978.079236     3.184578     1.991217     2.794285     0.726469   \n",
       "min    ...     1.000000     0.000000     0.000000     0.000000     0.000000   \n",
       "25%    ...   307.000000     0.000000     0.000000     0.000000     0.000000   \n",
       "50%    ...  1102.000000     0.000000     0.000000     0.000000     0.000000   \n",
       "75%    ...  2025.000000     2.000000     2.000000     2.000000     0.000000   \n",
       "max    ...  3420.000000    35.000000    18.000000    30.000000     9.000000   \n",
       "\n",
       "             PKatt         CrdY         CrdR     Top_Team     Strikers  \n",
       "count  2921.000000  2921.000000  2921.000000  2921.000000  2921.000000  \n",
       "mean      0.199589     2.625813     0.120849     0.179391     0.136597  \n",
       "std       0.852603     2.759046     0.364682     0.383745     0.343480  \n",
       "min       0.000000     0.000000     0.000000     0.000000     0.000000  \n",
       "25%       0.000000     0.000000     0.000000     0.000000     0.000000  \n",
       "50%       0.000000     2.000000     0.000000     0.000000     0.000000  \n",
       "75%       0.000000     4.000000     0.000000     0.000000     0.000000  \n",
       "max      13.000000    16.000000     3.000000     1.000000     1.000000  \n",
       "\n",
       "[8 rows x 27 columns]"
      ]
     },
     "execution_count": 31,
     "metadata": {},
     "output_type": "execute_result"
    }
   ],
   "source": [
    "pure_strings = ['Player','Nation','Pos','Squad','Comp']\n",
    "flags = []\n",
    "for col in df_main.columns:\n",
    "  if col not in pure_strings:\n",
    "    flags.append(True)\n",
    "  else:\n",
    "    flags.append(False)\n",
    "\n",
    "df_main2 = df_main.loc[:,flags]\n",
    "# convert all columns of DataFrame\n",
    "df = df_main2.apply(pd.to_numeric) \n",
    "df.describe()"
   ]
  },
  {
   "cell_type": "code",
   "execution_count": 32,
   "metadata": {
    "colab": {
     "base_uri": "https://localhost:8080/",
     "height": 0
    },
    "executionInfo": {
     "elapsed": 8,
     "status": "ok",
     "timestamp": 1675176884280,
     "user": {
      "displayName": "Taker 9",
      "userId": "13385761573232714992"
     },
     "user_tz": -60
    },
    "id": "-Z5ENxpEBfeL",
    "outputId": "998f9f06-1bff-4608-b057-05b345e25ca9"
   },
   "outputs": [
    {
     "data": {
      "text/html": [
       "\n",
       "  <div id=\"df-9bf59ba6-7c1e-4856-b263-e2ec65ef7422\">\n",
       "    <div class=\"colab-df-container\">\n",
       "      <div>\n",
       "<style scoped>\n",
       "    .dataframe tbody tr th:only-of-type {\n",
       "        vertical-align: middle;\n",
       "    }\n",
       "\n",
       "    .dataframe tbody tr th {\n",
       "        vertical-align: top;\n",
       "    }\n",
       "\n",
       "    .dataframe thead th {\n",
       "        text-align: right;\n",
       "    }\n",
       "</style>\n",
       "<table border=\"1\" class=\"dataframe\">\n",
       "  <thead>\n",
       "    <tr style=\"text-align: right;\">\n",
       "      <th></th>\n",
       "      <th>Player</th>\n",
       "      <th>Nation</th>\n",
       "      <th>Pos</th>\n",
       "      <th>Squad</th>\n",
       "      <th>Comp</th>\n",
       "      <th>Age</th>\n",
       "      <th>90s</th>\n",
       "      <th>SCA</th>\n",
       "      <th>SCA90</th>\n",
       "      <th>PassLive_shots</th>\n",
       "      <th>...</th>\n",
       "      <th>Min</th>\n",
       "      <th>Gls</th>\n",
       "      <th>Ast</th>\n",
       "      <th>G-PK</th>\n",
       "      <th>PK</th>\n",
       "      <th>PKatt</th>\n",
       "      <th>CrdY</th>\n",
       "      <th>CrdR</th>\n",
       "      <th>Top_Team</th>\n",
       "      <th>Strikers</th>\n",
       "    </tr>\n",
       "  </thead>\n",
       "  <tbody>\n",
       "    <tr>\n",
       "      <th>0</th>\n",
       "      <td>Max Aarons</td>\n",
       "      <td>eng ENG</td>\n",
       "      <td>DF</td>\n",
       "      <td>Norwich City</td>\n",
       "      <td>eng Premier League</td>\n",
       "      <td>21</td>\n",
       "      <td>32.0</td>\n",
       "      <td>46.0</td>\n",
       "      <td>1.44</td>\n",
       "      <td>34.0</td>\n",
       "      <td>...</td>\n",
       "      <td>2881</td>\n",
       "      <td>0</td>\n",
       "      <td>2</td>\n",
       "      <td>0</td>\n",
       "      <td>0</td>\n",
       "      <td>0</td>\n",
       "      <td>8</td>\n",
       "      <td>0</td>\n",
       "      <td>0</td>\n",
       "      <td>0</td>\n",
       "    </tr>\n",
       "    <tr>\n",
       "      <th>1</th>\n",
       "      <td>Yunis Abdelhamid</td>\n",
       "      <td>ma MAR</td>\n",
       "      <td>DF</td>\n",
       "      <td>Reims</td>\n",
       "      <td>fr Ligue 1</td>\n",
       "      <td>33</td>\n",
       "      <td>33.1</td>\n",
       "      <td>22.0</td>\n",
       "      <td>0.66</td>\n",
       "      <td>17.0</td>\n",
       "      <td>...</td>\n",
       "      <td>2983</td>\n",
       "      <td>2</td>\n",
       "      <td>0</td>\n",
       "      <td>2</td>\n",
       "      <td>0</td>\n",
       "      <td>0</td>\n",
       "      <td>5</td>\n",
       "      <td>1</td>\n",
       "      <td>0</td>\n",
       "      <td>0</td>\n",
       "    </tr>\n",
       "    <tr>\n",
       "      <th>2</th>\n",
       "      <td>Salis Abdul Samed</td>\n",
       "      <td>gh GHA</td>\n",
       "      <td>MF</td>\n",
       "      <td>Clermont Foot</td>\n",
       "      <td>fr Ligue 1</td>\n",
       "      <td>21</td>\n",
       "      <td>27.4</td>\n",
       "      <td>50.0</td>\n",
       "      <td>1.83</td>\n",
       "      <td>41.0</td>\n",
       "      <td>...</td>\n",
       "      <td>2462</td>\n",
       "      <td>1</td>\n",
       "      <td>0</td>\n",
       "      <td>1</td>\n",
       "      <td>0</td>\n",
       "      <td>0</td>\n",
       "      <td>12</td>\n",
       "      <td>3</td>\n",
       "      <td>0</td>\n",
       "      <td>0</td>\n",
       "    </tr>\n",
       "    <tr>\n",
       "      <th>3</th>\n",
       "      <td>Laurent Abergel</td>\n",
       "      <td>fr FRA</td>\n",
       "      <td>MF</td>\n",
       "      <td>Lorient</td>\n",
       "      <td>fr Ligue 1</td>\n",
       "      <td>28</td>\n",
       "      <td>32.8</td>\n",
       "      <td>83.0</td>\n",
       "      <td>2.53</td>\n",
       "      <td>67.0</td>\n",
       "      <td>...</td>\n",
       "      <td>2956</td>\n",
       "      <td>0</td>\n",
       "      <td>2</td>\n",
       "      <td>0</td>\n",
       "      <td>0</td>\n",
       "      <td>0</td>\n",
       "      <td>9</td>\n",
       "      <td>0</td>\n",
       "      <td>0</td>\n",
       "      <td>0</td>\n",
       "    </tr>\n",
       "    <tr>\n",
       "      <th>4</th>\n",
       "      <td>Charles Abi</td>\n",
       "      <td>fr FRA</td>\n",
       "      <td>FW</td>\n",
       "      <td>Saint-Étienne</td>\n",
       "      <td>fr Ligue 1</td>\n",
       "      <td>21</td>\n",
       "      <td>0.5</td>\n",
       "      <td>1.0</td>\n",
       "      <td>2.00</td>\n",
       "      <td>1.0</td>\n",
       "      <td>...</td>\n",
       "      <td>45</td>\n",
       "      <td>0</td>\n",
       "      <td>0</td>\n",
       "      <td>0</td>\n",
       "      <td>0</td>\n",
       "      <td>0</td>\n",
       "      <td>0</td>\n",
       "      <td>0</td>\n",
       "      <td>0</td>\n",
       "      <td>1</td>\n",
       "    </tr>\n",
       "  </tbody>\n",
       "</table>\n",
       "<p>5 rows × 32 columns</p>\n",
       "</div>\n",
       "      <button class=\"colab-df-convert\" onclick=\"convertToInteractive('df-9bf59ba6-7c1e-4856-b263-e2ec65ef7422')\"\n",
       "              title=\"Convert this dataframe to an interactive table.\"\n",
       "              style=\"display:none;\">\n",
       "        \n",
       "  <svg xmlns=\"http://www.w3.org/2000/svg\" height=\"24px\"viewBox=\"0 0 24 24\"\n",
       "       width=\"24px\">\n",
       "    <path d=\"M0 0h24v24H0V0z\" fill=\"none\"/>\n",
       "    <path d=\"M18.56 5.44l.94 2.06.94-2.06 2.06-.94-2.06-.94-.94-2.06-.94 2.06-2.06.94zm-11 1L8.5 8.5l.94-2.06 2.06-.94-2.06-.94L8.5 2.5l-.94 2.06-2.06.94zm10 10l.94 2.06.94-2.06 2.06-.94-2.06-.94-.94-2.06-.94 2.06-2.06.94z\"/><path d=\"M17.41 7.96l-1.37-1.37c-.4-.4-.92-.59-1.43-.59-.52 0-1.04.2-1.43.59L10.3 9.45l-7.72 7.72c-.78.78-.78 2.05 0 2.83L4 21.41c.39.39.9.59 1.41.59.51 0 1.02-.2 1.41-.59l7.78-7.78 2.81-2.81c.8-.78.8-2.07 0-2.86zM5.41 20L4 18.59l7.72-7.72 1.47 1.35L5.41 20z\"/>\n",
       "  </svg>\n",
       "      </button>\n",
       "      \n",
       "  <style>\n",
       "    .colab-df-container {\n",
       "      display:flex;\n",
       "      flex-wrap:wrap;\n",
       "      gap: 12px;\n",
       "    }\n",
       "\n",
       "    .colab-df-convert {\n",
       "      background-color: #E8F0FE;\n",
       "      border: none;\n",
       "      border-radius: 50%;\n",
       "      cursor: pointer;\n",
       "      display: none;\n",
       "      fill: #1967D2;\n",
       "      height: 32px;\n",
       "      padding: 0 0 0 0;\n",
       "      width: 32px;\n",
       "    }\n",
       "\n",
       "    .colab-df-convert:hover {\n",
       "      background-color: #E2EBFA;\n",
       "      box-shadow: 0px 1px 2px rgba(60, 64, 67, 0.3), 0px 1px 3px 1px rgba(60, 64, 67, 0.15);\n",
       "      fill: #174EA6;\n",
       "    }\n",
       "\n",
       "    [theme=dark] .colab-df-convert {\n",
       "      background-color: #3B4455;\n",
       "      fill: #D2E3FC;\n",
       "    }\n",
       "\n",
       "    [theme=dark] .colab-df-convert:hover {\n",
       "      background-color: #434B5C;\n",
       "      box-shadow: 0px 1px 3px 1px rgba(0, 0, 0, 0.15);\n",
       "      filter: drop-shadow(0px 1px 2px rgba(0, 0, 0, 0.3));\n",
       "      fill: #FFFFFF;\n",
       "    }\n",
       "  </style>\n",
       "\n",
       "      <script>\n",
       "        const buttonEl =\n",
       "          document.querySelector('#df-9bf59ba6-7c1e-4856-b263-e2ec65ef7422 button.colab-df-convert');\n",
       "        buttonEl.style.display =\n",
       "          google.colab.kernel.accessAllowed ? 'block' : 'none';\n",
       "\n",
       "        async function convertToInteractive(key) {\n",
       "          const element = document.querySelector('#df-9bf59ba6-7c1e-4856-b263-e2ec65ef7422');\n",
       "          const dataTable =\n",
       "            await google.colab.kernel.invokeFunction('convertToInteractive',\n",
       "                                                     [key], {});\n",
       "          if (!dataTable) return;\n",
       "\n",
       "          const docLinkHtml = 'Like what you see? Visit the ' +\n",
       "            '<a target=\"_blank\" href=https://colab.research.google.com/notebooks/data_table.ipynb>data table notebook</a>'\n",
       "            + ' to learn more about interactive tables.';\n",
       "          element.innerHTML = '';\n",
       "          dataTable['output_type'] = 'display_data';\n",
       "          await google.colab.output.renderOutput(dataTable, element);\n",
       "          const docLink = document.createElement('div');\n",
       "          docLink.innerHTML = docLinkHtml;\n",
       "          element.appendChild(docLink);\n",
       "        }\n",
       "      </script>\n",
       "    </div>\n",
       "  </div>\n",
       "  "
      ],
      "text/plain": [
       "              Player   Nation Pos          Squad                Comp  Age  \\\n",
       "0         Max Aarons  eng ENG  DF   Norwich City  eng Premier League   21   \n",
       "1   Yunis Abdelhamid   ma MAR  DF          Reims          fr Ligue 1   33   \n",
       "2  Salis Abdul Samed   gh GHA  MF  Clermont Foot          fr Ligue 1   21   \n",
       "3    Laurent Abergel   fr FRA  MF        Lorient          fr Ligue 1   28   \n",
       "4        Charles Abi   fr FRA  FW  Saint-Étienne          fr Ligue 1   21   \n",
       "\n",
       "    90s   SCA  SCA90  PassLive_shots  ...   Min  Gls  Ast  G-PK  PK  PKatt  \\\n",
       "0  32.0  46.0   1.44            34.0  ...  2881    0    2     0   0      0   \n",
       "1  33.1  22.0   0.66            17.0  ...  2983    2    0     2   0      0   \n",
       "2  27.4  50.0   1.83            41.0  ...  2462    1    0     1   0      0   \n",
       "3  32.8  83.0   2.53            67.0  ...  2956    0    2     0   0      0   \n",
       "4   0.5   1.0   2.00             1.0  ...    45    0    0     0   0      0   \n",
       "\n",
       "   CrdY  CrdR  Top_Team  Strikers  \n",
       "0     8     0         0         0  \n",
       "1     5     1         0         0  \n",
       "2    12     3         0         0  \n",
       "3     9     0         0         0  \n",
       "4     0     0         0         1  \n",
       "\n",
       "[5 rows x 32 columns]"
      ]
     },
     "execution_count": 32,
     "metadata": {},
     "output_type": "execute_result"
    }
   ],
   "source": [
    "df_final = pd.concat([df_main.loc[:,list(~np.array(flags))], df ], axis = 1)\n",
    "df_final.head()"
   ]
  },
  {
   "cell_type": "code",
   "execution_count": 33,
   "metadata": {
    "colab": {
     "base_uri": "https://localhost:8080/"
    },
    "executionInfo": {
     "elapsed": 6,
     "status": "ok",
     "timestamp": 1675176884280,
     "user": {
      "displayName": "Taker 9",
      "userId": "13385761573232714992"
     },
     "user_tz": -60
    },
    "id": "DYFeNFESykoi",
    "outputId": "9da49e95-ea8e-449b-bfcb-da2d2a6fc02e"
   },
   "outputs": [
    {
     "data": {
      "text/plain": [
       "Index(['Player', 'Nation', 'Pos', 'Squad', 'Comp', 'Age', '90s', 'SCA',\n",
       "       'SCA90', 'PassLive_shots', 'PassDead', 'Drib_shots', 'shots_lead_shots',\n",
       "       'Def_shots', 'GCA', 'GCA90', 'PassLive_goals', 'Drib_goals',\n",
       "       'shots_lead_goals', 'Def_goals', 'MP', 'Starts', 'Min', 'Gls', 'Ast',\n",
       "       'G-PK', 'PK', 'PKatt', 'CrdY', 'CrdR', 'Top_Team', 'Strikers'],\n",
       "      dtype='object')"
      ]
     },
     "execution_count": 33,
     "metadata": {},
     "output_type": "execute_result"
    }
   ],
   "source": [
    "df_final.columns"
   ]
  },
  {
   "cell_type": "markdown",
   "metadata": {
    "id": "odZ1b9StxoRm"
   },
   "source": [
    "Export to CSV"
   ]
  },
  {
   "cell_type": "code",
   "execution_count": 34,
   "metadata": {
    "executionInfo": {
     "elapsed": 954,
     "status": "ok",
     "timestamp": 1675176885229,
     "user": {
      "displayName": "Taker 9",
      "userId": "13385761573232714992"
     },
     "user_tz": -60
    },
    "id": "obVCT8Cjxoup"
   },
   "outputs": [],
   "source": [
    "df_final.to_csv('dataset.csv')"
   ]
  },
  {
   "cell_type": "markdown",
   "metadata": {
    "id": "7PxFNgdaG6Xx"
   },
   "source": [
    "Pivot Tables"
   ]
  },
  {
   "cell_type": "code",
   "execution_count": 35,
   "metadata": {
    "colab": {
     "base_uri": "https://localhost:8080/",
     "height": 0
    },
    "executionInfo": {
     "elapsed": 26,
     "status": "ok",
     "timestamp": 1675176885230,
     "user": {
      "displayName": "Taker 9",
      "userId": "13385761573232714992"
     },
     "user_tz": -60
    },
    "id": "siVYLYnlWiVD",
    "outputId": "c8de8ee8-1319-4df4-ec45-a316133f31b8"
   },
   "outputs": [
    {
     "data": {
      "text/html": [
       "\n",
       "  <div id=\"df-0918cf54-52b1-4a02-9898-d45ada4217dc\">\n",
       "    <div class=\"colab-df-container\">\n",
       "      <div>\n",
       "<style scoped>\n",
       "    .dataframe tbody tr th:only-of-type {\n",
       "        vertical-align: middle;\n",
       "    }\n",
       "\n",
       "    .dataframe tbody tr th {\n",
       "        vertical-align: top;\n",
       "    }\n",
       "\n",
       "    .dataframe thead th {\n",
       "        text-align: right;\n",
       "    }\n",
       "</style>\n",
       "<table border=\"1\" class=\"dataframe\">\n",
       "  <thead>\n",
       "    <tr style=\"text-align: right;\">\n",
       "      <th></th>\n",
       "      <th>Gls</th>\n",
       "    </tr>\n",
       "    <tr>\n",
       "      <th>Squad</th>\n",
       "      <th></th>\n",
       "    </tr>\n",
       "  </thead>\n",
       "  <tbody>\n",
       "    <tr>\n",
       "      <th>Manchester City</th>\n",
       "      <td>96</td>\n",
       "    </tr>\n",
       "    <tr>\n",
       "      <th>Liverpool</th>\n",
       "      <td>94</td>\n",
       "    </tr>\n",
       "    <tr>\n",
       "      <th>Bayern Munich</th>\n",
       "      <td>92</td>\n",
       "    </tr>\n",
       "    <tr>\n",
       "      <th>Paris S-G</th>\n",
       "      <td>88</td>\n",
       "    </tr>\n",
       "    <tr>\n",
       "      <th>Inter</th>\n",
       "      <td>83</td>\n",
       "    </tr>\n",
       "    <tr>\n",
       "      <th>...</th>\n",
       "      <td>...</td>\n",
       "    </tr>\n",
       "    <tr>\n",
       "      <th>Alavés</th>\n",
       "      <td>29</td>\n",
       "    </tr>\n",
       "    <tr>\n",
       "      <th>Greuther Fürth</th>\n",
       "      <td>26</td>\n",
       "    </tr>\n",
       "    <tr>\n",
       "      <th>Genoa</th>\n",
       "      <td>26</td>\n",
       "    </tr>\n",
       "    <tr>\n",
       "      <th>Arminia</th>\n",
       "      <td>26</td>\n",
       "    </tr>\n",
       "    <tr>\n",
       "      <th>Norwich City</th>\n",
       "      <td>21</td>\n",
       "    </tr>\n",
       "  </tbody>\n",
       "</table>\n",
       "<p>98 rows × 1 columns</p>\n",
       "</div>\n",
       "      <button class=\"colab-df-convert\" onclick=\"convertToInteractive('df-0918cf54-52b1-4a02-9898-d45ada4217dc')\"\n",
       "              title=\"Convert this dataframe to an interactive table.\"\n",
       "              style=\"display:none;\">\n",
       "        \n",
       "  <svg xmlns=\"http://www.w3.org/2000/svg\" height=\"24px\"viewBox=\"0 0 24 24\"\n",
       "       width=\"24px\">\n",
       "    <path d=\"M0 0h24v24H0V0z\" fill=\"none\"/>\n",
       "    <path d=\"M18.56 5.44l.94 2.06.94-2.06 2.06-.94-2.06-.94-.94-2.06-.94 2.06-2.06.94zm-11 1L8.5 8.5l.94-2.06 2.06-.94-2.06-.94L8.5 2.5l-.94 2.06-2.06.94zm10 10l.94 2.06.94-2.06 2.06-.94-2.06-.94-.94-2.06-.94 2.06-2.06.94z\"/><path d=\"M17.41 7.96l-1.37-1.37c-.4-.4-.92-.59-1.43-.59-.52 0-1.04.2-1.43.59L10.3 9.45l-7.72 7.72c-.78.78-.78 2.05 0 2.83L4 21.41c.39.39.9.59 1.41.59.51 0 1.02-.2 1.41-.59l7.78-7.78 2.81-2.81c.8-.78.8-2.07 0-2.86zM5.41 20L4 18.59l7.72-7.72 1.47 1.35L5.41 20z\"/>\n",
       "  </svg>\n",
       "      </button>\n",
       "      \n",
       "  <style>\n",
       "    .colab-df-container {\n",
       "      display:flex;\n",
       "      flex-wrap:wrap;\n",
       "      gap: 12px;\n",
       "    }\n",
       "\n",
       "    .colab-df-convert {\n",
       "      background-color: #E8F0FE;\n",
       "      border: none;\n",
       "      border-radius: 50%;\n",
       "      cursor: pointer;\n",
       "      display: none;\n",
       "      fill: #1967D2;\n",
       "      height: 32px;\n",
       "      padding: 0 0 0 0;\n",
       "      width: 32px;\n",
       "    }\n",
       "\n",
       "    .colab-df-convert:hover {\n",
       "      background-color: #E2EBFA;\n",
       "      box-shadow: 0px 1px 2px rgba(60, 64, 67, 0.3), 0px 1px 3px 1px rgba(60, 64, 67, 0.15);\n",
       "      fill: #174EA6;\n",
       "    }\n",
       "\n",
       "    [theme=dark] .colab-df-convert {\n",
       "      background-color: #3B4455;\n",
       "      fill: #D2E3FC;\n",
       "    }\n",
       "\n",
       "    [theme=dark] .colab-df-convert:hover {\n",
       "      background-color: #434B5C;\n",
       "      box-shadow: 0px 1px 3px 1px rgba(0, 0, 0, 0.15);\n",
       "      filter: drop-shadow(0px 1px 2px rgba(0, 0, 0, 0.3));\n",
       "      fill: #FFFFFF;\n",
       "    }\n",
       "  </style>\n",
       "\n",
       "      <script>\n",
       "        const buttonEl =\n",
       "          document.querySelector('#df-0918cf54-52b1-4a02-9898-d45ada4217dc button.colab-df-convert');\n",
       "        buttonEl.style.display =\n",
       "          google.colab.kernel.accessAllowed ? 'block' : 'none';\n",
       "\n",
       "        async function convertToInteractive(key) {\n",
       "          const element = document.querySelector('#df-0918cf54-52b1-4a02-9898-d45ada4217dc');\n",
       "          const dataTable =\n",
       "            await google.colab.kernel.invokeFunction('convertToInteractive',\n",
       "                                                     [key], {});\n",
       "          if (!dataTable) return;\n",
       "\n",
       "          const docLinkHtml = 'Like what you see? Visit the ' +\n",
       "            '<a target=\"_blank\" href=https://colab.research.google.com/notebooks/data_table.ipynb>data table notebook</a>'\n",
       "            + ' to learn more about interactive tables.';\n",
       "          element.innerHTML = '';\n",
       "          dataTable['output_type'] = 'display_data';\n",
       "          await google.colab.output.renderOutput(dataTable, element);\n",
       "          const docLink = document.createElement('div');\n",
       "          docLink.innerHTML = docLinkHtml;\n",
       "          element.appendChild(docLink);\n",
       "        }\n",
       "      </script>\n",
       "    </div>\n",
       "  </div>\n",
       "  "
      ],
      "text/plain": [
       "                 Gls\n",
       "Squad               \n",
       "Manchester City   96\n",
       "Liverpool         94\n",
       "Bayern Munich     92\n",
       "Paris S-G         88\n",
       "Inter             83\n",
       "...              ...\n",
       "Alavés            29\n",
       "Greuther Fürth    26\n",
       "Genoa             26\n",
       "Arminia           26\n",
       "Norwich City      21\n",
       "\n",
       "[98 rows x 1 columns]"
      ]
     },
     "execution_count": 35,
     "metadata": {},
     "output_type": "execute_result"
    }
   ],
   "source": [
    "pd.pivot_table(df_final, index = 'Squad' ,values = 'Gls' , aggfunc = 'sum').sort_values(by=['Gls'], ascending=False)"
   ]
  },
  {
   "cell_type": "code",
   "execution_count": 36,
   "metadata": {
    "colab": {
     "base_uri": "https://localhost:8080/",
     "height": 0
    },
    "executionInfo": {
     "elapsed": 23,
     "status": "ok",
     "timestamp": 1675176885230,
     "user": {
      "displayName": "Taker 9",
      "userId": "13385761573232714992"
     },
     "user_tz": -60
    },
    "id": "Yd17m_bhXV0R",
    "outputId": "45b254b2-c11c-4b0a-df49-8bc7480d8a2f"
   },
   "outputs": [
    {
     "data": {
      "text/html": [
       "\n",
       "  <div id=\"df-7f21be16-56b8-4604-8ddc-d13e68910f48\">\n",
       "    <div class=\"colab-df-container\">\n",
       "      <div>\n",
       "<style scoped>\n",
       "    .dataframe tbody tr th:only-of-type {\n",
       "        vertical-align: middle;\n",
       "    }\n",
       "\n",
       "    .dataframe tbody tr th {\n",
       "        vertical-align: top;\n",
       "    }\n",
       "\n",
       "    .dataframe thead th {\n",
       "        text-align: right;\n",
       "    }\n",
       "</style>\n",
       "<table border=\"1\" class=\"dataframe\">\n",
       "  <thead>\n",
       "    <tr style=\"text-align: right;\">\n",
       "      <th></th>\n",
       "      <th>Gls</th>\n",
       "    </tr>\n",
       "    <tr>\n",
       "      <th>Comp</th>\n",
       "      <th></th>\n",
       "    </tr>\n",
       "  </thead>\n",
       "  <tbody>\n",
       "    <tr>\n",
       "      <th>it Serie A</th>\n",
       "      <td>1052</td>\n",
       "    </tr>\n",
       "    <tr>\n",
       "      <th>eng Premier League</th>\n",
       "      <td>1037</td>\n",
       "    </tr>\n",
       "    <tr>\n",
       "      <th>fr Ligue 1</th>\n",
       "      <td>1031</td>\n",
       "    </tr>\n",
       "    <tr>\n",
       "      <th>es La Liga</th>\n",
       "      <td>927</td>\n",
       "    </tr>\n",
       "    <tr>\n",
       "      <th>de Bundesliga</th>\n",
       "      <td>924</td>\n",
       "    </tr>\n",
       "  </tbody>\n",
       "</table>\n",
       "</div>\n",
       "      <button class=\"colab-df-convert\" onclick=\"convertToInteractive('df-7f21be16-56b8-4604-8ddc-d13e68910f48')\"\n",
       "              title=\"Convert this dataframe to an interactive table.\"\n",
       "              style=\"display:none;\">\n",
       "        \n",
       "  <svg xmlns=\"http://www.w3.org/2000/svg\" height=\"24px\"viewBox=\"0 0 24 24\"\n",
       "       width=\"24px\">\n",
       "    <path d=\"M0 0h24v24H0V0z\" fill=\"none\"/>\n",
       "    <path d=\"M18.56 5.44l.94 2.06.94-2.06 2.06-.94-2.06-.94-.94-2.06-.94 2.06-2.06.94zm-11 1L8.5 8.5l.94-2.06 2.06-.94-2.06-.94L8.5 2.5l-.94 2.06-2.06.94zm10 10l.94 2.06.94-2.06 2.06-.94-2.06-.94-.94-2.06-.94 2.06-2.06.94z\"/><path d=\"M17.41 7.96l-1.37-1.37c-.4-.4-.92-.59-1.43-.59-.52 0-1.04.2-1.43.59L10.3 9.45l-7.72 7.72c-.78.78-.78 2.05 0 2.83L4 21.41c.39.39.9.59 1.41.59.51 0 1.02-.2 1.41-.59l7.78-7.78 2.81-2.81c.8-.78.8-2.07 0-2.86zM5.41 20L4 18.59l7.72-7.72 1.47 1.35L5.41 20z\"/>\n",
       "  </svg>\n",
       "      </button>\n",
       "      \n",
       "  <style>\n",
       "    .colab-df-container {\n",
       "      display:flex;\n",
       "      flex-wrap:wrap;\n",
       "      gap: 12px;\n",
       "    }\n",
       "\n",
       "    .colab-df-convert {\n",
       "      background-color: #E8F0FE;\n",
       "      border: none;\n",
       "      border-radius: 50%;\n",
       "      cursor: pointer;\n",
       "      display: none;\n",
       "      fill: #1967D2;\n",
       "      height: 32px;\n",
       "      padding: 0 0 0 0;\n",
       "      width: 32px;\n",
       "    }\n",
       "\n",
       "    .colab-df-convert:hover {\n",
       "      background-color: #E2EBFA;\n",
       "      box-shadow: 0px 1px 2px rgba(60, 64, 67, 0.3), 0px 1px 3px 1px rgba(60, 64, 67, 0.15);\n",
       "      fill: #174EA6;\n",
       "    }\n",
       "\n",
       "    [theme=dark] .colab-df-convert {\n",
       "      background-color: #3B4455;\n",
       "      fill: #D2E3FC;\n",
       "    }\n",
       "\n",
       "    [theme=dark] .colab-df-convert:hover {\n",
       "      background-color: #434B5C;\n",
       "      box-shadow: 0px 1px 3px 1px rgba(0, 0, 0, 0.15);\n",
       "      filter: drop-shadow(0px 1px 2px rgba(0, 0, 0, 0.3));\n",
       "      fill: #FFFFFF;\n",
       "    }\n",
       "  </style>\n",
       "\n",
       "      <script>\n",
       "        const buttonEl =\n",
       "          document.querySelector('#df-7f21be16-56b8-4604-8ddc-d13e68910f48 button.colab-df-convert');\n",
       "        buttonEl.style.display =\n",
       "          google.colab.kernel.accessAllowed ? 'block' : 'none';\n",
       "\n",
       "        async function convertToInteractive(key) {\n",
       "          const element = document.querySelector('#df-7f21be16-56b8-4604-8ddc-d13e68910f48');\n",
       "          const dataTable =\n",
       "            await google.colab.kernel.invokeFunction('convertToInteractive',\n",
       "                                                     [key], {});\n",
       "          if (!dataTable) return;\n",
       "\n",
       "          const docLinkHtml = 'Like what you see? Visit the ' +\n",
       "            '<a target=\"_blank\" href=https://colab.research.google.com/notebooks/data_table.ipynb>data table notebook</a>'\n",
       "            + ' to learn more about interactive tables.';\n",
       "          element.innerHTML = '';\n",
       "          dataTable['output_type'] = 'display_data';\n",
       "          await google.colab.output.renderOutput(dataTable, element);\n",
       "          const docLink = document.createElement('div');\n",
       "          docLink.innerHTML = docLinkHtml;\n",
       "          element.appendChild(docLink);\n",
       "        }\n",
       "      </script>\n",
       "    </div>\n",
       "  </div>\n",
       "  "
      ],
      "text/plain": [
       "                     Gls\n",
       "Comp                    \n",
       "it Serie A          1052\n",
       "eng Premier League  1037\n",
       "fr Ligue 1          1031\n",
       "es La Liga           927\n",
       "de Bundesliga        924"
      ]
     },
     "execution_count": 36,
     "metadata": {},
     "output_type": "execute_result"
    }
   ],
   "source": [
    "pd.pivot_table(df_final, index = 'Comp' ,values = 'Gls' , aggfunc = 'sum').sort_values(by=['Gls'], ascending=False)"
   ]
  },
  {
   "cell_type": "code",
   "execution_count": 37,
   "metadata": {
    "colab": {
     "base_uri": "https://localhost:8080/",
     "height": 0
    },
    "executionInfo": {
     "elapsed": 23,
     "status": "ok",
     "timestamp": 1675176885231,
     "user": {
      "displayName": "Taker 9",
      "userId": "13385761573232714992"
     },
     "user_tz": -60
    },
    "id": "kcjr-oi9aMWM",
    "outputId": "decfd934-3258-45c5-e020-02da7fe66e50"
   },
   "outputs": [
    {
     "data": {
      "text/html": [
       "\n",
       "  <div id=\"df-c6487158-9659-4cc4-8b36-30522b54a957\">\n",
       "    <div class=\"colab-df-container\">\n",
       "      <div>\n",
       "<style scoped>\n",
       "    .dataframe tbody tr th:only-of-type {\n",
       "        vertical-align: middle;\n",
       "    }\n",
       "\n",
       "    .dataframe tbody tr th {\n",
       "        vertical-align: top;\n",
       "    }\n",
       "\n",
       "    .dataframe thead th {\n",
       "        text-align: right;\n",
       "    }\n",
       "</style>\n",
       "<table border=\"1\" class=\"dataframe\">\n",
       "  <thead>\n",
       "    <tr style=\"text-align: right;\">\n",
       "      <th></th>\n",
       "      <th>Age</th>\n",
       "      <th>SCA</th>\n",
       "      <th>SCA90</th>\n",
       "      <th>PassLive_goals</th>\n",
       "      <th>GCA</th>\n",
       "      <th>GCA90</th>\n",
       "      <th>PassDead</th>\n",
       "      <th>Drib_shots</th>\n",
       "      <th>shots_lead_shots</th>\n",
       "      <th>Gls</th>\n",
       "    </tr>\n",
       "  </thead>\n",
       "  <tbody>\n",
       "    <tr>\n",
       "      <th>Age</th>\n",
       "      <td>1.000000</td>\n",
       "      <td>0.123591</td>\n",
       "      <td>-0.070840</td>\n",
       "      <td>0.103158</td>\n",
       "      <td>0.098963</td>\n",
       "      <td>-0.032238</td>\n",
       "      <td>0.094893</td>\n",
       "      <td>-0.022724</td>\n",
       "      <td>0.101247</td>\n",
       "      <td>0.109287</td>\n",
       "    </tr>\n",
       "    <tr>\n",
       "      <th>SCA</th>\n",
       "      <td>0.123591</td>\n",
       "      <td>1.000000</td>\n",
       "      <td>0.185919</td>\n",
       "      <td>0.831231</td>\n",
       "      <td>0.875072</td>\n",
       "      <td>0.154994</td>\n",
       "      <td>0.629378</td>\n",
       "      <td>0.701063</td>\n",
       "      <td>0.721043</td>\n",
       "      <td>0.630467</td>\n",
       "    </tr>\n",
       "    <tr>\n",
       "      <th>SCA90</th>\n",
       "      <td>-0.070840</td>\n",
       "      <td>0.185919</td>\n",
       "      <td>1.000000</td>\n",
       "      <td>0.150823</td>\n",
       "      <td>0.165443</td>\n",
       "      <td>0.227033</td>\n",
       "      <td>0.141959</td>\n",
       "      <td>0.160133</td>\n",
       "      <td>0.133773</td>\n",
       "      <td>0.103493</td>\n",
       "    </tr>\n",
       "    <tr>\n",
       "      <th>PassLive_goals</th>\n",
       "      <td>0.103158</td>\n",
       "      <td>0.831231</td>\n",
       "      <td>0.150823</td>\n",
       "      <td>1.000000</td>\n",
       "      <td>0.950524</td>\n",
       "      <td>0.221584</td>\n",
       "      <td>0.403969</td>\n",
       "      <td>0.580272</td>\n",
       "      <td>0.596001</td>\n",
       "      <td>0.585765</td>\n",
       "    </tr>\n",
       "    <tr>\n",
       "      <th>GCA</th>\n",
       "      <td>0.098963</td>\n",
       "      <td>0.875072</td>\n",
       "      <td>0.165443</td>\n",
       "      <td>0.950524</td>\n",
       "      <td>1.000000</td>\n",
       "      <td>0.238072</td>\n",
       "      <td>0.488900</td>\n",
       "      <td>0.664215</td>\n",
       "      <td>0.680226</td>\n",
       "      <td>0.668850</td>\n",
       "    </tr>\n",
       "    <tr>\n",
       "      <th>GCA90</th>\n",
       "      <td>-0.032238</td>\n",
       "      <td>0.154994</td>\n",
       "      <td>0.227033</td>\n",
       "      <td>0.221584</td>\n",
       "      <td>0.238072</td>\n",
       "      <td>1.000000</td>\n",
       "      <td>0.088975</td>\n",
       "      <td>0.141725</td>\n",
       "      <td>0.126752</td>\n",
       "      <td>0.126596</td>\n",
       "    </tr>\n",
       "    <tr>\n",
       "      <th>PassDead</th>\n",
       "      <td>0.094893</td>\n",
       "      <td>0.629378</td>\n",
       "      <td>0.141959</td>\n",
       "      <td>0.403969</td>\n",
       "      <td>0.488900</td>\n",
       "      <td>0.088975</td>\n",
       "      <td>1.000000</td>\n",
       "      <td>0.284680</td>\n",
       "      <td>0.286912</td>\n",
       "      <td>0.226342</td>\n",
       "    </tr>\n",
       "    <tr>\n",
       "      <th>Drib_shots</th>\n",
       "      <td>-0.022724</td>\n",
       "      <td>0.701063</td>\n",
       "      <td>0.160133</td>\n",
       "      <td>0.580272</td>\n",
       "      <td>0.664215</td>\n",
       "      <td>0.141725</td>\n",
       "      <td>0.284680</td>\n",
       "      <td>1.000000</td>\n",
       "      <td>0.588092</td>\n",
       "      <td>0.571160</td>\n",
       "    </tr>\n",
       "    <tr>\n",
       "      <th>shots_lead_shots</th>\n",
       "      <td>0.101247</td>\n",
       "      <td>0.721043</td>\n",
       "      <td>0.133773</td>\n",
       "      <td>0.596001</td>\n",
       "      <td>0.680226</td>\n",
       "      <td>0.126752</td>\n",
       "      <td>0.286912</td>\n",
       "      <td>0.588092</td>\n",
       "      <td>1.000000</td>\n",
       "      <td>0.713533</td>\n",
       "    </tr>\n",
       "    <tr>\n",
       "      <th>Gls</th>\n",
       "      <td>0.109287</td>\n",
       "      <td>0.630467</td>\n",
       "      <td>0.103493</td>\n",
       "      <td>0.585765</td>\n",
       "      <td>0.668850</td>\n",
       "      <td>0.126596</td>\n",
       "      <td>0.226342</td>\n",
       "      <td>0.571160</td>\n",
       "      <td>0.713533</td>\n",
       "      <td>1.000000</td>\n",
       "    </tr>\n",
       "  </tbody>\n",
       "</table>\n",
       "</div>\n",
       "      <button class=\"colab-df-convert\" onclick=\"convertToInteractive('df-c6487158-9659-4cc4-8b36-30522b54a957')\"\n",
       "              title=\"Convert this dataframe to an interactive table.\"\n",
       "              style=\"display:none;\">\n",
       "        \n",
       "  <svg xmlns=\"http://www.w3.org/2000/svg\" height=\"24px\"viewBox=\"0 0 24 24\"\n",
       "       width=\"24px\">\n",
       "    <path d=\"M0 0h24v24H0V0z\" fill=\"none\"/>\n",
       "    <path d=\"M18.56 5.44l.94 2.06.94-2.06 2.06-.94-2.06-.94-.94-2.06-.94 2.06-2.06.94zm-11 1L8.5 8.5l.94-2.06 2.06-.94-2.06-.94L8.5 2.5l-.94 2.06-2.06.94zm10 10l.94 2.06.94-2.06 2.06-.94-2.06-.94-.94-2.06-.94 2.06-2.06.94z\"/><path d=\"M17.41 7.96l-1.37-1.37c-.4-.4-.92-.59-1.43-.59-.52 0-1.04.2-1.43.59L10.3 9.45l-7.72 7.72c-.78.78-.78 2.05 0 2.83L4 21.41c.39.39.9.59 1.41.59.51 0 1.02-.2 1.41-.59l7.78-7.78 2.81-2.81c.8-.78.8-2.07 0-2.86zM5.41 20L4 18.59l7.72-7.72 1.47 1.35L5.41 20z\"/>\n",
       "  </svg>\n",
       "      </button>\n",
       "      \n",
       "  <style>\n",
       "    .colab-df-container {\n",
       "      display:flex;\n",
       "      flex-wrap:wrap;\n",
       "      gap: 12px;\n",
       "    }\n",
       "\n",
       "    .colab-df-convert {\n",
       "      background-color: #E8F0FE;\n",
       "      border: none;\n",
       "      border-radius: 50%;\n",
       "      cursor: pointer;\n",
       "      display: none;\n",
       "      fill: #1967D2;\n",
       "      height: 32px;\n",
       "      padding: 0 0 0 0;\n",
       "      width: 32px;\n",
       "    }\n",
       "\n",
       "    .colab-df-convert:hover {\n",
       "      background-color: #E2EBFA;\n",
       "      box-shadow: 0px 1px 2px rgba(60, 64, 67, 0.3), 0px 1px 3px 1px rgba(60, 64, 67, 0.15);\n",
       "      fill: #174EA6;\n",
       "    }\n",
       "\n",
       "    [theme=dark] .colab-df-convert {\n",
       "      background-color: #3B4455;\n",
       "      fill: #D2E3FC;\n",
       "    }\n",
       "\n",
       "    [theme=dark] .colab-df-convert:hover {\n",
       "      background-color: #434B5C;\n",
       "      box-shadow: 0px 1px 3px 1px rgba(0, 0, 0, 0.15);\n",
       "      filter: drop-shadow(0px 1px 2px rgba(0, 0, 0, 0.3));\n",
       "      fill: #FFFFFF;\n",
       "    }\n",
       "  </style>\n",
       "\n",
       "      <script>\n",
       "        const buttonEl =\n",
       "          document.querySelector('#df-c6487158-9659-4cc4-8b36-30522b54a957 button.colab-df-convert');\n",
       "        buttonEl.style.display =\n",
       "          google.colab.kernel.accessAllowed ? 'block' : 'none';\n",
       "\n",
       "        async function convertToInteractive(key) {\n",
       "          const element = document.querySelector('#df-c6487158-9659-4cc4-8b36-30522b54a957');\n",
       "          const dataTable =\n",
       "            await google.colab.kernel.invokeFunction('convertToInteractive',\n",
       "                                                     [key], {});\n",
       "          if (!dataTable) return;\n",
       "\n",
       "          const docLinkHtml = 'Like what you see? Visit the ' +\n",
       "            '<a target=\"_blank\" href=https://colab.research.google.com/notebooks/data_table.ipynb>data table notebook</a>'\n",
       "            + ' to learn more about interactive tables.';\n",
       "          element.innerHTML = '';\n",
       "          dataTable['output_type'] = 'display_data';\n",
       "          await google.colab.output.renderOutput(dataTable, element);\n",
       "          const docLink = document.createElement('div');\n",
       "          docLink.innerHTML = docLinkHtml;\n",
       "          element.appendChild(docLink);\n",
       "        }\n",
       "      </script>\n",
       "    </div>\n",
       "  </div>\n",
       "  "
      ],
      "text/plain": [
       "                       Age       SCA     SCA90  PassLive_goals       GCA  \\\n",
       "Age               1.000000  0.123591 -0.070840        0.103158  0.098963   \n",
       "SCA               0.123591  1.000000  0.185919        0.831231  0.875072   \n",
       "SCA90            -0.070840  0.185919  1.000000        0.150823  0.165443   \n",
       "PassLive_goals    0.103158  0.831231  0.150823        1.000000  0.950524   \n",
       "GCA               0.098963  0.875072  0.165443        0.950524  1.000000   \n",
       "GCA90            -0.032238  0.154994  0.227033        0.221584  0.238072   \n",
       "PassDead          0.094893  0.629378  0.141959        0.403969  0.488900   \n",
       "Drib_shots       -0.022724  0.701063  0.160133        0.580272  0.664215   \n",
       "shots_lead_shots  0.101247  0.721043  0.133773        0.596001  0.680226   \n",
       "Gls               0.109287  0.630467  0.103493        0.585765  0.668850   \n",
       "\n",
       "                     GCA90  PassDead  Drib_shots  shots_lead_shots       Gls  \n",
       "Age              -0.032238  0.094893   -0.022724          0.101247  0.109287  \n",
       "SCA               0.154994  0.629378    0.701063          0.721043  0.630467  \n",
       "SCA90             0.227033  0.141959    0.160133          0.133773  0.103493  \n",
       "PassLive_goals    0.221584  0.403969    0.580272          0.596001  0.585765  \n",
       "GCA               0.238072  0.488900    0.664215          0.680226  0.668850  \n",
       "GCA90             1.000000  0.088975    0.141725          0.126752  0.126596  \n",
       "PassDead          0.088975  1.000000    0.284680          0.286912  0.226342  \n",
       "Drib_shots        0.141725  0.284680    1.000000          0.588092  0.571160  \n",
       "shots_lead_shots  0.126752  0.286912    0.588092          1.000000  0.713533  \n",
       "Gls               0.126596  0.226342    0.571160          0.713533  1.000000  "
      ]
     },
     "execution_count": 37,
     "metadata": {},
     "output_type": "execute_result"
    }
   ],
   "source": [
    "df_final[['Age','SCA','SCA90','PassLive_goals', 'GCA', 'GCA90',  'PassDead', 'Drib_shots', 'shots_lead_shots' ,'Gls']].corr()"
   ]
  },
  {
   "cell_type": "markdown",
   "metadata": {
    "id": "Rk6x63VT0C53"
   },
   "source": [
    "# Model Building"
   ]
  },
  {
   "cell_type": "markdown",
   "metadata": {
    "id": "gwXrFj7C0TDq"
   },
   "source": [
    "* Choose Relevent Columns\n",
    "* get Dummy data (categorical data encoding)\n",
    "* Train Test Splits\n",
    "* Multiple Linear Regressions\n",
    "* Lasso Regression (used with sparse data incoming from dummy columns)\n",
    "* Random Forest\n",
    "* Gradient Boosted Trees\n",
    "* SVMs\n",
    "* Tune Models using GridsearchCV\n",
    "* Test ensembles\n"
   ]
  },
  {
   "cell_type": "markdown",
   "metadata": {
    "id": "P9bKnqZe1VCn"
   },
   "source": [
    "1- Relevant Columns"
   ]
  },
  {
   "cell_type": "code",
   "execution_count": 38,
   "metadata": {
    "colab": {
     "base_uri": "https://localhost:8080/"
    },
    "executionInfo": {
     "elapsed": 21,
     "status": "ok",
     "timestamp": 1675176885231,
     "user": {
      "displayName": "Taker 9",
      "userId": "13385761573232714992"
     },
     "user_tz": -60
    },
    "id": "iS7XsBj90FJ8",
    "outputId": "a8b22ec8-ced1-4e90-a451-7c05379b7e98"
   },
   "outputs": [
    {
     "data": {
      "text/plain": [
       "Index(['Player', 'Nation', 'Pos', 'Squad', 'Comp', 'Age', '90s', 'SCA',\n",
       "       'SCA90', 'PassLive_shots', 'PassDead', 'Drib_shots', 'shots_lead_shots',\n",
       "       'Def_shots', 'GCA', 'GCA90', 'PassLive_goals', 'Drib_goals',\n",
       "       'shots_lead_goals', 'Def_goals', 'MP', 'Starts', 'Min', 'Gls', 'Ast',\n",
       "       'G-PK', 'PK', 'PKatt', 'CrdY', 'CrdR', 'Top_Team', 'Strikers'],\n",
       "      dtype='object')"
      ]
     },
     "execution_count": 38,
     "metadata": {},
     "output_type": "execute_result"
    }
   ],
   "source": [
    "df_final.head()\n",
    "df_final.columns"
   ]
  },
  {
   "cell_type": "code",
   "execution_count": 39,
   "metadata": {
    "executionInfo": {
     "elapsed": 19,
     "status": "ok",
     "timestamp": 1675176885233,
     "user": {
      "displayName": "Taker 9",
      "userId": "13385761573232714992"
     },
     "user_tz": -60
    },
    "id": "sbonBRBR2n3k"
   },
   "outputs": [],
   "source": [
    "df_model = df_final[['Age', 'SCA', 'PassLive_shots', 'Drib_shots', 'GCA', 'PassLive_goals', 'PassDead', 'Starts', 'PKatt', 'Drib_goals', 'shots_lead_goals', 'Min', 'Ast', 'Top_Team', 'Strikers'  ]]"
   ]
  },
  {
   "cell_type": "code",
   "execution_count": 40,
   "metadata": {
    "colab": {
     "base_uri": "https://localhost:8080/",
     "height": 404
    },
    "executionInfo": {
     "elapsed": 19,
     "status": "ok",
     "timestamp": 1675176885234,
     "user": {
      "displayName": "Taker 9",
      "userId": "13385761573232714992"
     },
     "user_tz": -60
    },
    "id": "YBOME4q04IbG",
    "outputId": "98d1a9ba-9965-4c89-fac9-de3a398e444c"
   },
   "outputs": [
    {
     "data": {
      "text/html": [
       "\n",
       "  <div id=\"df-fa0d38df-2607-4fc6-8beb-1b4130bf0ffd\">\n",
       "    <div class=\"colab-df-container\">\n",
       "      <div>\n",
       "<style scoped>\n",
       "    .dataframe tbody tr th:only-of-type {\n",
       "        vertical-align: middle;\n",
       "    }\n",
       "\n",
       "    .dataframe tbody tr th {\n",
       "        vertical-align: top;\n",
       "    }\n",
       "\n",
       "    .dataframe thead th {\n",
       "        text-align: right;\n",
       "    }\n",
       "</style>\n",
       "<table border=\"1\" class=\"dataframe\">\n",
       "  <thead>\n",
       "    <tr style=\"text-align: right;\">\n",
       "      <th></th>\n",
       "      <th>Player</th>\n",
       "      <th>Pos</th>\n",
       "      <th>Squad</th>\n",
       "      <th>Age</th>\n",
       "      <th>90s</th>\n",
       "      <th>SCA</th>\n",
       "      <th>SCA90</th>\n",
       "      <th>PassLive_shots</th>\n",
       "      <th>PassDead</th>\n",
       "      <th>Drib_shots</th>\n",
       "      <th>...</th>\n",
       "      <th>Nation_ua UKR</th>\n",
       "      <th>Nation_us USA</th>\n",
       "      <th>Nation_uy URU</th>\n",
       "      <th>Nation_uz UZB</th>\n",
       "      <th>Nation_ve VEN</th>\n",
       "      <th>Nation_wls WAL</th>\n",
       "      <th>Nation_xk KVX</th>\n",
       "      <th>Nation_za RSA</th>\n",
       "      <th>Nation_zm ZAM</th>\n",
       "      <th>Nation_zw ZIM</th>\n",
       "    </tr>\n",
       "  </thead>\n",
       "  <tbody>\n",
       "    <tr>\n",
       "      <th>0</th>\n",
       "      <td>Max Aarons</td>\n",
       "      <td>DF</td>\n",
       "      <td>Norwich City</td>\n",
       "      <td>21</td>\n",
       "      <td>32.0</td>\n",
       "      <td>46.0</td>\n",
       "      <td>1.44</td>\n",
       "      <td>34.0</td>\n",
       "      <td>3.0</td>\n",
       "      <td>2.0</td>\n",
       "      <td>...</td>\n",
       "      <td>0</td>\n",
       "      <td>0</td>\n",
       "      <td>0</td>\n",
       "      <td>0</td>\n",
       "      <td>0</td>\n",
       "      <td>0</td>\n",
       "      <td>0</td>\n",
       "      <td>0</td>\n",
       "      <td>0</td>\n",
       "      <td>0</td>\n",
       "    </tr>\n",
       "    <tr>\n",
       "      <th>1</th>\n",
       "      <td>Yunis Abdelhamid</td>\n",
       "      <td>DF</td>\n",
       "      <td>Reims</td>\n",
       "      <td>33</td>\n",
       "      <td>33.1</td>\n",
       "      <td>22.0</td>\n",
       "      <td>0.66</td>\n",
       "      <td>17.0</td>\n",
       "      <td>0.0</td>\n",
       "      <td>2.0</td>\n",
       "      <td>...</td>\n",
       "      <td>0</td>\n",
       "      <td>0</td>\n",
       "      <td>0</td>\n",
       "      <td>0</td>\n",
       "      <td>0</td>\n",
       "      <td>0</td>\n",
       "      <td>0</td>\n",
       "      <td>0</td>\n",
       "      <td>0</td>\n",
       "      <td>0</td>\n",
       "    </tr>\n",
       "    <tr>\n",
       "      <th>2</th>\n",
       "      <td>Salis Abdul Samed</td>\n",
       "      <td>MF</td>\n",
       "      <td>Clermont Foot</td>\n",
       "      <td>21</td>\n",
       "      <td>27.4</td>\n",
       "      <td>50.0</td>\n",
       "      <td>1.83</td>\n",
       "      <td>41.0</td>\n",
       "      <td>0.0</td>\n",
       "      <td>0.0</td>\n",
       "      <td>...</td>\n",
       "      <td>0</td>\n",
       "      <td>0</td>\n",
       "      <td>0</td>\n",
       "      <td>0</td>\n",
       "      <td>0</td>\n",
       "      <td>0</td>\n",
       "      <td>0</td>\n",
       "      <td>0</td>\n",
       "      <td>0</td>\n",
       "      <td>0</td>\n",
       "    </tr>\n",
       "    <tr>\n",
       "      <th>3</th>\n",
       "      <td>Laurent Abergel</td>\n",
       "      <td>MF</td>\n",
       "      <td>Lorient</td>\n",
       "      <td>28</td>\n",
       "      <td>32.8</td>\n",
       "      <td>83.0</td>\n",
       "      <td>2.53</td>\n",
       "      <td>67.0</td>\n",
       "      <td>2.0</td>\n",
       "      <td>3.0</td>\n",
       "      <td>...</td>\n",
       "      <td>0</td>\n",
       "      <td>0</td>\n",
       "      <td>0</td>\n",
       "      <td>0</td>\n",
       "      <td>0</td>\n",
       "      <td>0</td>\n",
       "      <td>0</td>\n",
       "      <td>0</td>\n",
       "      <td>0</td>\n",
       "      <td>0</td>\n",
       "    </tr>\n",
       "    <tr>\n",
       "      <th>4</th>\n",
       "      <td>Charles Abi</td>\n",
       "      <td>FW</td>\n",
       "      <td>Saint-Étienne</td>\n",
       "      <td>21</td>\n",
       "      <td>0.5</td>\n",
       "      <td>1.0</td>\n",
       "      <td>2.00</td>\n",
       "      <td>1.0</td>\n",
       "      <td>0.0</td>\n",
       "      <td>0.0</td>\n",
       "      <td>...</td>\n",
       "      <td>0</td>\n",
       "      <td>0</td>\n",
       "      <td>0</td>\n",
       "      <td>0</td>\n",
       "      <td>0</td>\n",
       "      <td>0</td>\n",
       "      <td>0</td>\n",
       "      <td>0</td>\n",
       "      <td>0</td>\n",
       "      <td>0</td>\n",
       "    </tr>\n",
       "  </tbody>\n",
       "</table>\n",
       "<p>5 rows × 138 columns</p>\n",
       "</div>\n",
       "      <button class=\"colab-df-convert\" onclick=\"convertToInteractive('df-fa0d38df-2607-4fc6-8beb-1b4130bf0ffd')\"\n",
       "              title=\"Convert this dataframe to an interactive table.\"\n",
       "              style=\"display:none;\">\n",
       "        \n",
       "  <svg xmlns=\"http://www.w3.org/2000/svg\" height=\"24px\"viewBox=\"0 0 24 24\"\n",
       "       width=\"24px\">\n",
       "    <path d=\"M0 0h24v24H0V0z\" fill=\"none\"/>\n",
       "    <path d=\"M18.56 5.44l.94 2.06.94-2.06 2.06-.94-2.06-.94-.94-2.06-.94 2.06-2.06.94zm-11 1L8.5 8.5l.94-2.06 2.06-.94-2.06-.94L8.5 2.5l-.94 2.06-2.06.94zm10 10l.94 2.06.94-2.06 2.06-.94-2.06-.94-.94-2.06-.94 2.06-2.06.94z\"/><path d=\"M17.41 7.96l-1.37-1.37c-.4-.4-.92-.59-1.43-.59-.52 0-1.04.2-1.43.59L10.3 9.45l-7.72 7.72c-.78.78-.78 2.05 0 2.83L4 21.41c.39.39.9.59 1.41.59.51 0 1.02-.2 1.41-.59l7.78-7.78 2.81-2.81c.8-.78.8-2.07 0-2.86zM5.41 20L4 18.59l7.72-7.72 1.47 1.35L5.41 20z\"/>\n",
       "  </svg>\n",
       "      </button>\n",
       "      \n",
       "  <style>\n",
       "    .colab-df-container {\n",
       "      display:flex;\n",
       "      flex-wrap:wrap;\n",
       "      gap: 12px;\n",
       "    }\n",
       "\n",
       "    .colab-df-convert {\n",
       "      background-color: #E8F0FE;\n",
       "      border: none;\n",
       "      border-radius: 50%;\n",
       "      cursor: pointer;\n",
       "      display: none;\n",
       "      fill: #1967D2;\n",
       "      height: 32px;\n",
       "      padding: 0 0 0 0;\n",
       "      width: 32px;\n",
       "    }\n",
       "\n",
       "    .colab-df-convert:hover {\n",
       "      background-color: #E2EBFA;\n",
       "      box-shadow: 0px 1px 2px rgba(60, 64, 67, 0.3), 0px 1px 3px 1px rgba(60, 64, 67, 0.15);\n",
       "      fill: #174EA6;\n",
       "    }\n",
       "\n",
       "    [theme=dark] .colab-df-convert {\n",
       "      background-color: #3B4455;\n",
       "      fill: #D2E3FC;\n",
       "    }\n",
       "\n",
       "    [theme=dark] .colab-df-convert:hover {\n",
       "      background-color: #434B5C;\n",
       "      box-shadow: 0px 1px 3px 1px rgba(0, 0, 0, 0.15);\n",
       "      filter: drop-shadow(0px 1px 2px rgba(0, 0, 0, 0.3));\n",
       "      fill: #FFFFFF;\n",
       "    }\n",
       "  </style>\n",
       "\n",
       "      <script>\n",
       "        const buttonEl =\n",
       "          document.querySelector('#df-fa0d38df-2607-4fc6-8beb-1b4130bf0ffd button.colab-df-convert');\n",
       "        buttonEl.style.display =\n",
       "          google.colab.kernel.accessAllowed ? 'block' : 'none';\n",
       "\n",
       "        async function convertToInteractive(key) {\n",
       "          const element = document.querySelector('#df-fa0d38df-2607-4fc6-8beb-1b4130bf0ffd');\n",
       "          const dataTable =\n",
       "            await google.colab.kernel.invokeFunction('convertToInteractive',\n",
       "                                                     [key], {});\n",
       "          if (!dataTable) return;\n",
       "\n",
       "          const docLinkHtml = 'Like what you see? Visit the ' +\n",
       "            '<a target=\"_blank\" href=https://colab.research.google.com/notebooks/data_table.ipynb>data table notebook</a>'\n",
       "            + ' to learn more about interactive tables.';\n",
       "          element.innerHTML = '';\n",
       "          dataTable['output_type'] = 'display_data';\n",
       "          await google.colab.output.renderOutput(dataTable, element);\n",
       "          const docLink = document.createElement('div');\n",
       "          docLink.innerHTML = docLinkHtml;\n",
       "          element.appendChild(docLink);\n",
       "        }\n",
       "      </script>\n",
       "    </div>\n",
       "  </div>\n",
       "  "
      ],
      "text/plain": [
       "              Player Pos          Squad  Age   90s   SCA  SCA90  \\\n",
       "0         Max Aarons  DF   Norwich City   21  32.0  46.0   1.44   \n",
       "1   Yunis Abdelhamid  DF          Reims   33  33.1  22.0   0.66   \n",
       "2  Salis Abdul Samed  MF  Clermont Foot   21  27.4  50.0   1.83   \n",
       "3    Laurent Abergel  MF        Lorient   28  32.8  83.0   2.53   \n",
       "4        Charles Abi  FW  Saint-Étienne   21   0.5   1.0   2.00   \n",
       "\n",
       "   PassLive_shots  PassDead  Drib_shots  ...  Nation_ua UKR  Nation_us USA  \\\n",
       "0            34.0       3.0         2.0  ...              0              0   \n",
       "1            17.0       0.0         2.0  ...              0              0   \n",
       "2            41.0       0.0         0.0  ...              0              0   \n",
       "3            67.0       2.0         3.0  ...              0              0   \n",
       "4             1.0       0.0         0.0  ...              0              0   \n",
       "\n",
       "   Nation_uy URU  Nation_uz UZB  Nation_ve VEN  Nation_wls WAL  Nation_xk KVX  \\\n",
       "0              0              0              0               0              0   \n",
       "1              0              0              0               0              0   \n",
       "2              0              0              0               0              0   \n",
       "3              0              0              0               0              0   \n",
       "4              0              0              0               0              0   \n",
       "\n",
       "   Nation_za RSA  Nation_zm ZAM  Nation_zw ZIM  \n",
       "0              0              0              0  \n",
       "1              0              0              0  \n",
       "2              0              0              0  \n",
       "3              0              0              0  \n",
       "4              0              0              0  \n",
       "\n",
       "[5 rows x 138 columns]"
      ]
     },
     "execution_count": 40,
     "metadata": {},
     "output_type": "execute_result"
    }
   ],
   "source": [
    "df_dummies = pd.get_dummies(df_final, columns = ['Comp','Nation'])\n",
    "df_dummies.head()"
   ]
  },
  {
   "cell_type": "code",
   "execution_count": 41,
   "metadata": {
    "colab": {
     "base_uri": "https://localhost:8080/"
    },
    "executionInfo": {
     "elapsed": 18,
     "status": "ok",
     "timestamp": 1675176885234,
     "user": {
      "displayName": "Taker 9",
      "userId": "13385761573232714992"
     },
     "user_tz": -60
    },
    "id": "wg4_KOq37dUY",
    "outputId": "1b87ab7c-d952-4401-db7d-2f9c198bc7f3"
   },
   "outputs": [
    {
     "data": {
      "text/plain": [
       "(2921, 135)"
      ]
     },
     "execution_count": 41,
     "metadata": {},
     "output_type": "execute_result"
    }
   ],
   "source": [
    "df_dum = df_dummies.drop(['Player', 'Pos',\t'Squad'],axis=1)\n",
    "df_dum.shape"
   ]
  },
  {
   "cell_type": "code",
   "execution_count": 42,
   "metadata": {
    "colab": {
     "base_uri": "https://localhost:8080/"
    },
    "executionInfo": {
     "elapsed": 18,
     "status": "ok",
     "timestamp": 1675176885235,
     "user": {
      "displayName": "Taker 9",
      "userId": "13385761573232714992"
     },
     "user_tz": -60
    },
    "id": "n9iB-aJZWq1B",
    "outputId": "74b8de82-7e5e-4f66-867b-24e210b49a0a"
   },
   "outputs": [
    {
     "data": {
      "text/plain": [
       "(2917, 135)"
      ]
     },
     "execution_count": 42,
     "metadata": {},
     "output_type": "execute_result"
    }
   ],
   "source": [
    "df_dum = df_dum.dropna()\n",
    "df_dum.shape"
   ]
  },
  {
   "cell_type": "code",
   "execution_count": 63,
   "metadata": {
    "colab": {
     "base_uri": "https://localhost:8080/"
    },
    "executionInfo": {
     "elapsed": 3,
     "status": "ok",
     "timestamp": 1675186679871,
     "user": {
      "displayName": "Taker 9",
      "userId": "13385761573232714992"
     },
     "user_tz": -60
    },
    "id": "3UxLWgFQ58Tz",
    "outputId": "299b463c-3d9c-4ea4-d8a5-4fe50b9254c1"
   },
   "outputs": [
    {
     "data": {
      "text/plain": [
       "[33.0,\n",
       " 33.1,\n",
       " 22.0,\n",
       " 0.66,\n",
       " 17.0,\n",
       " 0.0,\n",
       " 2.0,\n",
       " 1.0,\n",
       " 2.0,\n",
       " 1.0,\n",
       " 0.03,\n",
       " 1.0,\n",
       " 0.0,\n",
       " 0.0,\n",
       " 0.0,\n",
       " 34.0,\n",
       " 34.0,\n",
       " 2983.0,\n",
       " 2.0,\n",
       " 0.0,\n",
       " 2.0,\n",
       " 0.0,\n",
       " 0.0,\n",
       " 5.0,\n",
       " 1.0,\n",
       " 0.0,\n",
       " 0.0,\n",
       " 0.0,\n",
       " 0.0,\n",
       " 0.0,\n",
       " 1.0,\n",
       " 0.0,\n",
       " 0.0,\n",
       " 0.0,\n",
       " 0.0,\n",
       " 0.0,\n",
       " 0.0,\n",
       " 0.0,\n",
       " 0.0,\n",
       " 0.0,\n",
       " 0.0,\n",
       " 0.0,\n",
       " 0.0,\n",
       " 0.0,\n",
       " 0.0,\n",
       " 0.0,\n",
       " 0.0,\n",
       " 0.0,\n",
       " 0.0,\n",
       " 0.0,\n",
       " 0.0,\n",
       " 0.0,\n",
       " 0.0,\n",
       " 0.0,\n",
       " 0.0,\n",
       " 0.0,\n",
       " 0.0,\n",
       " 0.0,\n",
       " 0.0,\n",
       " 0.0,\n",
       " 0.0,\n",
       " 0.0,\n",
       " 0.0,\n",
       " 0.0,\n",
       " 0.0,\n",
       " 0.0,\n",
       " 0.0,\n",
       " 0.0,\n",
       " 0.0,\n",
       " 0.0,\n",
       " 0.0,\n",
       " 0.0,\n",
       " 0.0,\n",
       " 0.0,\n",
       " 0.0,\n",
       " 0.0,\n",
       " 0.0,\n",
       " 0.0,\n",
       " 0.0,\n",
       " 0.0,\n",
       " 0.0,\n",
       " 0.0,\n",
       " 0.0,\n",
       " 0.0,\n",
       " 0.0,\n",
       " 0.0,\n",
       " 0.0,\n",
       " 0.0,\n",
       " 0.0,\n",
       " 0.0,\n",
       " 0.0,\n",
       " 1.0,\n",
       " 0.0,\n",
       " 0.0,\n",
       " 0.0,\n",
       " 0.0,\n",
       " 0.0,\n",
       " 0.0,\n",
       " 0.0,\n",
       " 0.0,\n",
       " 0.0,\n",
       " 0.0,\n",
       " 0.0,\n",
       " 0.0,\n",
       " 0.0,\n",
       " 0.0,\n",
       " 0.0,\n",
       " 0.0,\n",
       " 0.0,\n",
       " 0.0,\n",
       " 0.0,\n",
       " 0.0,\n",
       " 0.0,\n",
       " 0.0,\n",
       " 0.0,\n",
       " 0.0,\n",
       " 0.0,\n",
       " 0.0,\n",
       " 0.0,\n",
       " 0.0,\n",
       " 0.0,\n",
       " 0.0,\n",
       " 0.0,\n",
       " 0.0,\n",
       " 0.0,\n",
       " 0.0,\n",
       " 0.0,\n",
       " 0.0,\n",
       " 0.0,\n",
       " 0.0,\n",
       " 0.0,\n",
       " 0.0,\n",
       " 0.0,\n",
       " 0.0,\n",
       " 0.0]"
      ]
     },
     "execution_count": 63,
     "metadata": {},
     "output_type": "execute_result"
    }
   ],
   "source": [
    "list(df_dum.iloc[1,:])"
   ]
  },
  {
   "cell_type": "markdown",
   "metadata": {
    "id": "UqXrh14L7mRG"
   },
   "source": [
    "2- Train Test Split"
   ]
  },
  {
   "cell_type": "code",
   "execution_count": 43,
   "metadata": {
    "executionInfo": {
     "elapsed": 16,
     "status": "ok",
     "timestamp": 1675176885235,
     "user": {
      "displayName": "Taker 9",
      "userId": "13385761573232714992"
     },
     "user_tz": -60
    },
    "id": "auO5YFMg7oZW"
   },
   "outputs": [],
   "source": [
    "from sklearn.model_selection import train_test_split\n",
    "\n",
    "X = df_dum.drop('Gls', axis=1).values\n",
    "y = df_dum.Gls.values\n",
    "\n",
    "X_train, X_test, y_train, y_test = train_test_split(X, y, test_size=0.2, random_state=42)"
   ]
  },
  {
   "cell_type": "markdown",
   "metadata": {
    "id": "JOCZvAD6cQQK"
   },
   "source": [
    "Normalizing Data"
   ]
  },
  {
   "cell_type": "code",
   "execution_count": 44,
   "metadata": {
    "executionInfo": {
     "elapsed": 17,
     "status": "ok",
     "timestamp": 1675176885847,
     "user": {
      "displayName": "Taker 9",
      "userId": "13385761573232714992"
     },
     "user_tz": -60
    },
    "id": "bIRva0LlcUNu"
   },
   "outputs": [],
   "source": [
    "from sklearn.preprocessing import StandardScaler\n",
    "sc = StandardScaler()\n",
    "X_train = sc.fit_transform(X_train)\n",
    "X_test = sc.transform(X_test)"
   ]
  },
  {
   "cell_type": "markdown",
   "metadata": {
    "id": "vlsef4GTHdnY"
   },
   "source": [
    "3- Linear Regression"
   ]
  },
  {
   "cell_type": "code",
   "execution_count": 45,
   "metadata": {
    "colab": {
     "base_uri": "https://localhost:8080/"
    },
    "executionInfo": {
     "elapsed": 18,
     "status": "ok",
     "timestamp": 1675176885848,
     "user": {
      "displayName": "Taker 9",
      "userId": "13385761573232714992"
     },
     "user_tz": -60
    },
    "id": "N9m63irdHfNJ",
    "outputId": "d5a233cc-11d6-4385-9925-ee6d2ba5a08d"
   },
   "outputs": [
    {
     "name": "stdout",
     "output_type": "stream",
     "text": [
      "Linear Regression mean error = -0.0276027442080926\n"
     ]
    }
   ],
   "source": [
    "from sklearn.linear_model import LinearRegression\n",
    "from sklearn.model_selection import cross_val_score\n",
    "\n",
    "lr = LinearRegression()\n",
    "result = np.mean(cross_val_score(lr, X_train,y_train, scoring =  'neg_mean_absolute_error' ,cv = 5)) # negative mean absolute error tells us how far on average we are off general prediction. \n",
    "print(f'Linear Regression mean error = {result}')"
   ]
  },
  {
   "cell_type": "markdown",
   "metadata": {
    "id": "XD0vevcEZH3x"
   },
   "source": [
    "4- Lasso Regression (Normalizes values)"
   ]
  },
  {
   "cell_type": "code",
   "execution_count": 46,
   "metadata": {
    "colab": {
     "base_uri": "https://localhost:8080/",
     "height": 1000
    },
    "executionInfo": {
     "elapsed": 6195,
     "status": "ok",
     "timestamp": 1675176892033,
     "user": {
      "displayName": "Taker 9",
      "userId": "13385761573232714992"
     },
     "user_tz": -60
    },
    "id": "8dwJ4aiQZfTx",
    "outputId": "fcf90cbb-53d6-464c-e271-01c64bc273f9"
   },
   "outputs": [
    {
     "name": "stdout",
     "output_type": "stream",
     "text": [
      "Lasso Regression mean error = -0.0276027442080926 for alpha = 0.02\n",
      "Lasso Regression mean error = -0.0276027442080926 for alpha = 0.04\n",
      "Lasso Regression mean error = -0.0276027442080926 for alpha = 0.06\n",
      "Lasso Regression mean error = -0.0276027442080926 for alpha = 0.08\n",
      "Lasso Regression mean error = -0.0276027442080926 for alpha = 0.1\n",
      "Lasso Regression mean error = -0.0276027442080926 for alpha = 0.12\n",
      "Lasso Regression mean error = -0.0276027442080926 for alpha = 0.14\n",
      "Lasso Regression mean error = -0.0276027442080926 for alpha = 0.16\n",
      "Lasso Regression mean error = -0.0276027442080926 for alpha = 0.18\n",
      "Lasso Regression mean error = -0.0276027442080926 for alpha = 0.2\n",
      "Lasso Regression mean error = -0.0276027442080926 for alpha = 0.22\n",
      "Lasso Regression mean error = -0.0276027442080926 for alpha = 0.24\n",
      "Lasso Regression mean error = -0.0276027442080926 for alpha = 0.26\n",
      "Lasso Regression mean error = -0.0276027442080926 for alpha = 0.28\n",
      "Lasso Regression mean error = -0.0276027442080926 for alpha = 0.3\n",
      "Lasso Regression mean error = -0.0276027442080926 for alpha = 0.32\n",
      "Lasso Regression mean error = -0.0276027442080926 for alpha = 0.34\n",
      "Lasso Regression mean error = -0.0276027442080926 for alpha = 0.36\n",
      "Lasso Regression mean error = -0.0276027442080926 for alpha = 0.38\n",
      "Lasso Regression mean error = -0.0276027442080926 for alpha = 0.4\n",
      "Lasso Regression mean error = -0.0276027442080926 for alpha = 0.42\n",
      "Lasso Regression mean error = -0.0276027442080926 for alpha = 0.44\n",
      "Lasso Regression mean error = -0.0276027442080926 for alpha = 0.46\n",
      "Lasso Regression mean error = -0.0276027442080926 for alpha = 0.48\n",
      "Lasso Regression mean error = -0.0276027442080926 for alpha = 0.5\n",
      "Lasso Regression mean error = -0.0276027442080926 for alpha = 0.52\n",
      "Lasso Regression mean error = -0.0276027442080926 for alpha = 0.54\n",
      "Lasso Regression mean error = -0.0276027442080926 for alpha = 0.56\n",
      "Lasso Regression mean error = -0.0276027442080926 for alpha = 0.58\n",
      "Lasso Regression mean error = -0.0276027442080926 for alpha = 0.6\n",
      "Lasso Regression mean error = -0.0276027442080926 for alpha = 0.62\n",
      "Lasso Regression mean error = -0.0276027442080926 for alpha = 0.64\n",
      "Lasso Regression mean error = -0.0276027442080926 for alpha = 0.66\n",
      "Lasso Regression mean error = -0.0276027442080926 for alpha = 0.68\n",
      "Lasso Regression mean error = -0.0276027442080926 for alpha = 0.7\n",
      "Lasso Regression mean error = -0.0276027442080926 for alpha = 0.72\n",
      "Lasso Regression mean error = -0.0276027442080926 for alpha = 0.74\n",
      "Lasso Regression mean error = -0.0276027442080926 for alpha = 0.76\n",
      "Lasso Regression mean error = -0.0276027442080926 for alpha = 0.78\n",
      "Lasso Regression mean error = -0.0276027442080926 for alpha = 0.8\n",
      "Lasso Regression mean error = -0.0276027442080926 for alpha = 0.82\n",
      "Lasso Regression mean error = -0.0276027442080926 for alpha = 0.84\n",
      "Lasso Regression mean error = -0.0276027442080926 for alpha = 0.86\n",
      "Lasso Regression mean error = -0.0276027442080926 for alpha = 0.88\n",
      "Lasso Regression mean error = -0.0276027442080926 for alpha = 0.9\n",
      "Lasso Regression mean error = -0.0276027442080926 for alpha = 0.92\n",
      "Lasso Regression mean error = -0.0276027442080926 for alpha = 0.94\n",
      "Lasso Regression mean error = -0.0276027442080926 for alpha = 0.96\n",
      "Lasso Regression mean error = -0.0276027442080926 for alpha = 0.98\n"
     ]
    },
    {
     "data": {
      "text/plain": [
       "[<matplotlib.lines.Line2D at 0x7f911ab1de20>]"
      ]
     },
     "execution_count": 46,
     "metadata": {},
     "output_type": "execute_result"
    },
    {
     "data": {
      "image/png": "[encoded data removed]",
      "text/plain": [
       "<Figure size 432x288 with 1 Axes>"
      ]
     },
     "metadata": {
      "needs_background": "light"
     },
     "output_type": "display_data"
    }
   ],
   "source": [
    "# Alpha is normalization term. As Alpha is increased the data smoothing increases too. \n",
    "from sklearn.linear_model import Lasso\n",
    "#lr_L = Lasso()\n",
    "alpha = []\n",
    "error = []\n",
    "\n",
    "for i in range(1,100):\n",
    "  alpha.append(i/100)\n",
    "  lr_L = Lasso(alpha = (i/100))\n",
    "  error.append(np.mean(cross_val_score(lr_L, X_train,y_train, scoring =  'neg_mean_absolute_error' ,cv = 5)))\n",
    "  if i % 2 == 0:\n",
    "    print(f'Lasso Regression mean error = {result} for alpha = {i/100}')\n",
    "\n",
    "plt.plot(alpha,error)\n",
    "#result = np.mean(cross_val_score(lr_L, X_train,y_train, scoring =  'neg_mean_absolute_error' ,cv = 5)) # negative mean absolute error tells us how far on average we are off general prediction.\n",
    "#print(f'Lasso Regression mean error = {result} for alpha = 1')\n"
   ]
  },
  {
   "cell_type": "code",
   "execution_count": 47,
   "metadata": {
    "executionInfo": {
     "elapsed": 28,
     "status": "ok",
     "timestamp": 1675176892034,
     "user": {
      "displayName": "Taker 9",
      "userId": "13385761573232714992"
     },
     "user_tz": -60
    },
    "id": "dbkjdMb10Mxc"
   },
   "outputs": [],
   "source": [
    "# Lasso for best alpha\n",
    "lr_L = Lasso(alpha = 0.2)"
   ]
  },
  {
   "cell_type": "markdown",
   "metadata": {
    "id": "mlpOEI9hda5-"
   },
   "source": [
    "5 - Random Forests"
   ]
  },
  {
   "cell_type": "code",
   "execution_count": 48,
   "metadata": {
    "colab": {
     "base_uri": "https://localhost:8080/"
    },
    "executionInfo": {
     "elapsed": 4220,
     "status": "ok",
     "timestamp": 1675176896227,
     "user": {
      "displayName": "Taker 9",
      "userId": "13385761573232714992"
     },
     "user_tz": -60
    },
    "id": "05CIE5NDdd5N",
    "outputId": "7e3af845-0869-4c47-b61a-2ba031af36eb"
   },
   "outputs": [
    {
     "name": "stdout",
     "output_type": "stream",
     "text": [
      "Random Forest mean error = -0.06548238689103122\n"
     ]
    }
   ],
   "source": [
    "from sklearn.ensemble import RandomForestRegressor\n",
    "rf = RandomForestRegressor()\n",
    "\n",
    "result = np.mean(cross_val_score(rf, X_train,y_train, scoring =  'neg_mean_absolute_error' ,cv = 5)) \n",
    "print(f'Random Forest mean error = {result}')\n"
   ]
  },
  {
   "cell_type": "markdown",
   "metadata": {
    "id": "E-EN6iTkWNnH"
   },
   "source": [
    "5 - Tune models through GridSearch"
   ]
  },
  {
   "cell_type": "code",
   "execution_count": null,
   "metadata": {
    "id": "5pdyotG2XEA1"
   },
   "outputs": [],
   "source": [
    "#RF Regressor\n",
    "from sklearn.model_selection import GridSearchCV\n",
    "\n",
    "parameters = {'n_estimators':range(10,100,10), 'criterion': ('mse','mae'), 'max_features':('auto','sqrt','log2')}\n",
    "gs = GridSearchCV(rf, parameters, scoring =  'neg_mean_absolute_error', cv = 5 )\n",
    "gs.fit(X_train, y_train)"
   ]
  },
  {
   "cell_type": "code",
   "execution_count": 50,
   "metadata": {
    "colab": {
     "base_uri": "https://localhost:8080/"
    },
    "executionInfo": {
     "elapsed": 34,
     "status": "ok",
     "timestamp": 1675177506811,
     "user": {
      "displayName": "Taker 9",
      "userId": "13385761573232714992"
     },
     "user_tz": -60
    },
    "id": "TRa45YemtvjW",
    "outputId": "0ecaf16e-d593-4cc1-ad01-a565f12d5850"
   },
   "outputs": [
    {
     "data": {
      "text/plain": [
       "-0.06317035961437723"
      ]
     },
     "execution_count": 50,
     "metadata": {},
     "output_type": "execute_result"
    }
   ],
   "source": [
    "gs.best_score_"
   ]
  },
  {
   "cell_type": "code",
   "execution_count": 51,
   "metadata": {
    "colab": {
     "base_uri": "https://localhost:8080/"
    },
    "executionInfo": {
     "elapsed": 5,
     "status": "ok",
     "timestamp": 1675177506811,
     "user": {
      "displayName": "Taker 9",
      "userId": "13385761573232714992"
     },
     "user_tz": -60
    },
    "id": "tR1rINpAuPXZ",
    "outputId": "094e0c18-5f61-427f-d7a1-d109baead41a"
   },
   "outputs": [
    {
     "data": {
      "text/plain": [
       "RandomForestRegressor(criterion='mse', n_estimators=60)"
      ]
     },
     "execution_count": 51,
     "metadata": {},
     "output_type": "execute_result"
    }
   ],
   "source": [
    "gs.best_estimator_"
   ]
  },
  {
   "cell_type": "markdown",
   "metadata": {
    "id": "qBztzvX7vBJo"
   },
   "source": [
    "Test Ensembles"
   ]
  },
  {
   "cell_type": "code",
   "execution_count": 52,
   "metadata": {
    "executionInfo": {
     "elapsed": 406,
     "status": "ok",
     "timestamp": 1675177507213,
     "user": {
      "displayName": "Taker 9",
      "userId": "13385761573232714992"
     },
     "user_tz": -60
    },
    "id": "SzQX4zM2vCq5"
   },
   "outputs": [],
   "source": [
    "#Linear Regression Testing\n",
    "lr.fit(X_train,y_train)\n",
    "lr_pred = lr.predict(X_test)\n",
    "#Lasso Regression Testing\n",
    "lr_L.fit(X_train,y_train)\n",
    "lr_L_pred = lr_L.predict(X_test)\n",
    "#Random Forest Testing\n",
    "rf_pred = gs.best_estimator_.predict(X_test)"
   ]
  },
  {
   "cell_type": "code",
   "execution_count": 53,
   "metadata": {
    "colab": {
     "base_uri": "https://localhost:8080/"
    },
    "executionInfo": {
     "elapsed": 19,
     "status": "ok",
     "timestamp": 1675177507213,
     "user": {
      "displayName": "Taker 9",
      "userId": "13385761573232714992"
     },
     "user_tz": -60
    },
    "id": "9_hClwyC39-y",
    "outputId": "2e666edd-e6ab-48d1-f6a1-1512541a4999"
   },
   "outputs": [
    {
     "name": "stdout",
     "output_type": "stream",
     "text": [
      " Mean  Ansolute error for Linear Regression = 0.0004972581992328791\n",
      " Mean  Ansolute error for Lasso Regression = 0.1387987427318632\n",
      "Mean  Ansolute error for Random Forest = 0.07708333333333334\n"
     ]
    }
   ],
   "source": [
    "from sklearn.metrics import mean_absolute_error\n",
    "\n",
    "print(f' Mean  Ansolute error for Linear Regression = {mean_absolute_error(y_test,lr_pred)}')\n",
    "print(f' Mean  Ansolute error for Lasso Regression = {mean_absolute_error(y_test,lr_L_pred)}')\n",
    "print(f'Mean  Ansolute error for Random Forest = {mean_absolute_error(y_test,rf_pred)}')"
   ]
  },
  {
   "cell_type": "markdown",
   "metadata": {
    "id": "JbdX60Kq47dg"
   },
   "source": [
    "Combine Models prediction and compute average"
   ]
  },
  {
   "cell_type": "code",
   "execution_count": 54,
   "metadata": {
    "colab": {
     "base_uri": "https://localhost:8080/"
    },
    "executionInfo": {
     "elapsed": 9,
     "status": "ok",
     "timestamp": 1675177507213,
     "user": {
      "displayName": "Taker 9",
      "userId": "13385761573232714992"
     },
     "user_tz": -60
    },
    "id": "RefHlWtL5Bxi",
    "outputId": "08ffe7cb-adf3-47d2-930c-89d1ef0bf306"
   },
   "outputs": [
    {
     "name": "stdout",
     "output_type": "stream",
     "text": [
      "Mean  Ansolute error for Linear Regression + Random Forest = 0.03879029576628214\n"
     ]
    }
   ],
   "source": [
    "#For combine prediction from LR and RF and computer Average\n",
    "agg_pred = (lr_pred + rf_pred)/2\n",
    "print(f'Mean  Ansolute error for Linear Regression + Random Forest = {mean_absolute_error(y_test,agg_pred)}')\n",
    "# Or can take proprtions for instance: 90% from LR and 10% from RF\n"
   ]
  },
  {
   "cell_type": "markdown",
   "metadata": {
    "id": "-SpaViHRURJj"
   },
   "source": [
    "# Putting the Model into Production using Flask"
   ]
  },
  {
   "cell_type": "markdown",
   "metadata": {
    "id": "VbW-NMFbUfJA"
   },
   "source": [
    "Pickle the model"
   ]
  },
  {
   "cell_type": "code",
   "execution_count": 55,
   "metadata": {
    "executionInfo": {
     "elapsed": 617,
     "status": "ok",
     "timestamp": 1675177985457,
     "user": {
      "displayName": "Taker 9",
      "userId": "13385761573232714992"
     },
     "user_tz": -60
    },
    "id": "xY-qq2WhWRt7"
   },
   "outputs": [],
   "source": [
    "import pickle\n",
    "pickl = {'model': lr}\n",
    "pickle.dump( pickl, open( 'lr_model_file' + \".p\", \"wb\" ) )"
   ]
  },
  {
   "cell_type": "code",
   "execution_count": 56,
   "metadata": {
    "executionInfo": {
     "elapsed": 813,
     "status": "ok",
     "timestamp": 1675178085155,
     "user": {
      "displayName": "Taker 9",
      "userId": "13385761573232714992"
     },
     "user_tz": -60
    },
    "id": "ZuPKZI1RY-HY"
   },
   "outputs": [],
   "source": [
    "def load_models():\n",
    "    file_name = \"models/lr_model_file.p\"\n",
    "    with open(file_name, 'rb') as pickled:\n",
    "        data = pickle.load(pickled)\n",
    "        model = data['model']\n",
    "    return model\n",
    "    \n",
    "model = load_models()"
   ]
  },
  {
   "cell_type": "code",
   "execution_count": 89,
   "metadata": {
    "colab": {
     "base_uri": "https://localhost:8080/"
    },
    "executionInfo": {
     "elapsed": 2226,
     "status": "ok",
     "timestamp": 1675189408242,
     "user": {
      "displayName": "Taker 9",
      "userId": "13385761573232714992"
     },
     "user_tz": -60
    },
    "id": "6oVwziS0aLgG",
    "outputId": "da4be5bf-5485-4f61-c64a-a15d9a475ac5"
   },
   "outputs": [
    {
     "name": "stdout",
     "output_type": "stream",
     "text": [
      "Drive already mounted at /content/drive2; to attempt to forcibly remount, call drive.mount(\"/content/drive2\", force_remount=True).\n",
      "app.py\tcurl_req.ipynb\tdata_in.py  models  Procfile  __pycache__  wsgi.py\n"
     ]
    }
   ],
   "source": [
    "#!mkdir FlaskAPI\n",
    "drive.mount('/content/drive2')\n",
    "path = '/content/drive2/My Drive/End-to-End Data Science/FlaskAPI'\n",
    "os.chdir(path)\n",
    "!ls"
   ]
  },
  {
   "cell_type": "code",
   "execution_count": 57,
   "metadata": {
    "executionInfo": {
     "elapsed": 791,
     "status": "ok",
     "timestamp": 1675178253428,
     "user": {
      "displayName": "Taker 9",
      "userId": "13385761573232714992"
     },
     "user_tz": -60
    },
    "id": "6fE9zgYHZeIM"
   },
   "outputs": [],
   "source": [
    "#!touch app.py\n",
    "#!touch Procfile\n",
    "#!touch wsgi.py"
   ]
  },
  {
   "cell_type": "markdown",
   "metadata": {
    "id": "PUjv1KrhiE13"
   },
   "source": [
    "Run the wsgi.py to start a webserver on a local host "
   ]
  },
  {
   "cell_type": "code",
   "execution_count": 62,
   "metadata": {
    "colab": {
     "base_uri": "https://localhost:8080/"
    },
    "executionInfo": {
     "elapsed": 44819,
     "status": "ok",
     "timestamp": 1675180791997,
     "user": {
      "displayName": "Taker 9",
      "userId": "13385761573232714992"
     },
     "user_tz": -60
    },
    "id": "9IsMz7coagA4",
    "outputId": "9e53c8ca-30dd-4f94-a359-ad8a4fcc799b"
   },
   "outputs": [
    {
     "name": "stdout",
     "output_type": "stream",
     "text": [
      " * Serving Flask app \"app\" (lazy loading)\n",
      " * Environment: production\n",
      "\u001b[31m   WARNING: This is a development server. Do not use it in a production deployment.\u001b[0m\n",
      "\u001b[2m   Use a production WSGI server instead.\u001b[0m\n",
      " * Debug mode: off\n",
      " * Running on http://127.0.0.1:5000/ (Press CTRL+C to quit)\n"
     ]
    }
   ],
   "source": [
    "#!python wsgi.py"
   ]
  },
  {
   "cell_type": "markdown",
   "metadata": {
    "id": "-SO_Zx0iSi4H"
   },
   "source": [
    "# Other"
   ]
  },
  {
   "cell_type": "markdown",
   "metadata": {
    "id": "Ku1Zo47hi5NB"
   },
   "source": [
    "curl is used to access APIs"
   ]
  },
  {
   "cell_type": "code",
   "execution_count": 93,
   "metadata": {
    "executionInfo": {
     "elapsed": 258,
     "status": "ok",
     "timestamp": 1675189515542,
     "user": {
      "displayName": "Taker 9",
      "userId": "13385761573232714992"
     },
     "user_tz": -60
    },
    "id": "KDwxPpyk_7Ba"
   },
   "outputs": [],
   "source": [
    "from data_in import input\n",
    "mmodel = load_models()\n",
    "x = np.array(input).reshape(1,-1)\n",
    "prediction = model.predict(x[:,:-1])[0]"
   ]
  }
 ],
 "metadata": {
  "colab": {
   "authorship_tag": "ABX9TyOJCgS3x6G/9O3nasuyA/mN",
   "collapsed_sections": [
    "rPnitSCKjH8F",
    "H9gfetCi4sS9",
    "-SO_Zx0iSi4H"
   ],
   "provenance": []
  },
  "gpuClass": "standard",
  "kernelspec": {
   "display_name": "Python 3",
   "language": "python",
   "name": "python3"
  },
  "language_info": {
   "codemirror_mode": {
    "name": "ipython",
    "version": 3
   },
   "file_extension": ".py",
   "mimetype": "text/x-python",
   "name": "python",
   "nbconvert_exporter": "python",
   "pygments_lexer": "ipython3",
   "version": "3.8.5"
  },
  "toc": {
   "base_numbering": 1,
   "nav_menu": {},
   "number_sections": true,
   "sideBar": true,
   "skip_h1_title": false,
   "title_cell": "Table of Contents",
   "title_sidebar": "Contents",
   "toc_cell": false,
   "toc_position": {},
   "toc_section_display": true,
   "toc_window_display": false
  }
 },
 "nbformat": 4,
 "nbformat_minor": 1
}
